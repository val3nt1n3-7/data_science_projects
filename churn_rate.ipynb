{
  "nbformat": 4,
  "nbformat_minor": 0,
  "metadata": {
    "colab": {
      "provenance": [],
      "collapsed_sections": [
        "D8MhYqHaaHA1"
      ]
    },
    "kernelspec": {
      "name": "python3",
      "display_name": "Python 3"
    }
  },
  "cells": [
    {
      "cell_type": "code",
      "source": [
        "!pip install scikeras"
      ],
      "metadata": {
        "colab": {
          "base_uri": "https://localhost:8080/"
        },
        "id": "SmeWfHD05o_A",
        "outputId": "94db308f-63bb-4fe2-bd6b-74daf3107c84"
      },
      "execution_count": 3,
      "outputs": [
        {
          "output_type": "stream",
          "name": "stdout",
          "text": [
            "Collecting scikeras\n",
            "  Downloading scikeras-0.12.0-py3-none-any.whl (27 kB)\n",
            "Requirement already satisfied: packaging>=0.21 in /usr/local/lib/python3.10/dist-packages (from scikeras) (23.2)\n",
            "Requirement already satisfied: scikit-learn>=1.0.0 in /usr/local/lib/python3.10/dist-packages (from scikeras) (1.2.2)\n",
            "Requirement already satisfied: numpy>=1.17.3 in /usr/local/lib/python3.10/dist-packages (from scikit-learn>=1.0.0->scikeras) (1.23.5)\n",
            "Requirement already satisfied: scipy>=1.3.2 in /usr/local/lib/python3.10/dist-packages (from scikit-learn>=1.0.0->scikeras) (1.11.3)\n",
            "Requirement already satisfied: joblib>=1.1.1 in /usr/local/lib/python3.10/dist-packages (from scikit-learn>=1.0.0->scikeras) (1.3.2)\n",
            "Requirement already satisfied: threadpoolctl>=2.0.0 in /usr/local/lib/python3.10/dist-packages (from scikit-learn>=1.0.0->scikeras) (3.2.0)\n",
            "Installing collected packages: scikeras\n",
            "Successfully installed scikeras-0.12.0\n"
          ]
        }
      ]
    },
    {
      "cell_type": "code",
      "metadata": {
        "id": "1-B07FIzmYIk"
      },
      "source": [
        "import pandas as pd\n",
        "import numpy as np\n",
        "import matplotlib as mpl\n",
        "import matplotlib.pyplot as plt\n",
        "import seaborn as sns; sns.set()\n",
        "from sklearn.preprocessing import LabelEncoder\n",
        "from sklearn.preprocessing import StandardScaler\n",
        "from sklearn.model_selection import train_test_split\n",
        "from sklearn.model_selection import cross_validate\n",
        "from sklearn.model_selection import GridSearchCV\n",
        "from imblearn.under_sampling import RandomUnderSampler\n",
        "from sklearn.metrics import accuracy_score, f1_score, confusion_matrix, classification_report, precision_score, recall_score, precision_score\n",
        "\n",
        "\n",
        "from sklearn.linear_model import LogisticRegression\n",
        "from sklearn.ensemble import RandomForestClassifier\n",
        "\n",
        "from sklearn import tree\n",
        "from sklearn.tree import DecisionTreeClassifier\n",
        "\n",
        "import tensorflow as tf\n",
        "from tensorflow import keras\n",
        "from keras import layers, metrics\n",
        "from scikeras.wrappers import KerasClassifier\n",
        "\n",
        "\n",
        "%matplotlib inline"
      ],
      "execution_count": 4,
      "outputs": []
    },
    {
      "cell_type": "code",
      "metadata": {
        "id": "UxVvr5xlApCo"
      },
      "source": [
        "# loading data\n",
        "path = \"/content/WA_Fn-UseC_-Telco-Customer-Churn.csv\"\n",
        "df = pd.read_csv(path)"
      ],
      "execution_count": 5,
      "outputs": []
    },
    {
      "cell_type": "markdown",
      "metadata": {
        "id": "GIPi7NJ8fTk9"
      },
      "source": [
        "# Analizing the dataset\n",
        "\n",
        "Figuring out the dataset's features and shape"
      ]
    },
    {
      "cell_type": "code",
      "metadata": {
        "id": "dezI0FUXf1B4",
        "colab": {
          "base_uri": "https://localhost:8080/"
        },
        "outputId": "84402f84-75dc-4ee3-deb9-8a23ef54e423"
      },
      "source": [
        "print(f\"rows x cols: {df.shape}\")\n"
      ],
      "execution_count": 6,
      "outputs": [
        {
          "output_type": "stream",
          "name": "stdout",
          "text": [
            "rows x cols: (7043, 21)\n"
          ]
        }
      ]
    },
    {
      "cell_type": "code",
      "metadata": {
        "id": "HiqPqgvnfaVW",
        "colab": {
          "base_uri": "https://localhost:8080/"
        },
        "outputId": "07d5a756-2a8b-4e4a-ea15-c3e0bcb10eb7"
      },
      "source": [
        "df.info()"
      ],
      "execution_count": 7,
      "outputs": [
        {
          "output_type": "stream",
          "name": "stdout",
          "text": [
            "<class 'pandas.core.frame.DataFrame'>\n",
            "RangeIndex: 7043 entries, 0 to 7042\n",
            "Data columns (total 21 columns):\n",
            " #   Column            Non-Null Count  Dtype  \n",
            "---  ------            --------------  -----  \n",
            " 0   customerID        7043 non-null   object \n",
            " 1   gender            7043 non-null   object \n",
            " 2   SeniorCitizen     7043 non-null   int64  \n",
            " 3   Partner           7043 non-null   object \n",
            " 4   Dependents        7043 non-null   object \n",
            " 5   tenure            7043 non-null   int64  \n",
            " 6   PhoneService      7043 non-null   object \n",
            " 7   MultipleLines     7043 non-null   object \n",
            " 8   InternetService   7043 non-null   object \n",
            " 9   OnlineSecurity    7043 non-null   object \n",
            " 10  OnlineBackup      7043 non-null   object \n",
            " 11  DeviceProtection  7043 non-null   object \n",
            " 12  TechSupport       7043 non-null   object \n",
            " 13  StreamingTV       7043 non-null   object \n",
            " 14  StreamingMovies   7043 non-null   object \n",
            " 15  Contract          7043 non-null   object \n",
            " 16  PaperlessBilling  7043 non-null   object \n",
            " 17  PaymentMethod     7043 non-null   object \n",
            " 18  MonthlyCharges    7043 non-null   float64\n",
            " 19  TotalCharges      7043 non-null   object \n",
            " 20  Churn             7043 non-null   object \n",
            "dtypes: float64(1), int64(2), object(18)\n",
            "memory usage: 1.1+ MB\n"
          ]
        }
      ]
    },
    {
      "cell_type": "code",
      "metadata": {
        "id": "1ET8f_ghOGKw",
        "colab": {
          "base_uri": "https://localhost:8080/"
        },
        "outputId": "48a89d49-2781-4691-9e41-565e20711fc6"
      },
      "source": [
        "df.nunique()"
      ],
      "execution_count": 8,
      "outputs": [
        {
          "output_type": "execute_result",
          "data": {
            "text/plain": [
              "customerID          7043\n",
              "gender                 2\n",
              "SeniorCitizen          2\n",
              "Partner                2\n",
              "Dependents             2\n",
              "tenure                73\n",
              "PhoneService           2\n",
              "MultipleLines          3\n",
              "InternetService        3\n",
              "OnlineSecurity         3\n",
              "OnlineBackup           3\n",
              "DeviceProtection       3\n",
              "TechSupport            3\n",
              "StreamingTV            3\n",
              "StreamingMovies        3\n",
              "Contract               3\n",
              "PaperlessBilling       2\n",
              "PaymentMethod          4\n",
              "MonthlyCharges      1585\n",
              "TotalCharges        6531\n",
              "Churn                  2\n",
              "dtype: int64"
            ]
          },
          "metadata": {},
          "execution_count": 8
        }
      ]
    },
    {
      "cell_type": "markdown",
      "metadata": {
        "id": "0uTLQcTDj2GC"
      },
      "source": [
        "We've got 21 features: 3 numerical, 10 categorical, 8 binary."
      ]
    },
    {
      "cell_type": "code",
      "metadata": {
        "colab": {
          "base_uri": "https://localhost:8080/",
          "height": 300
        },
        "id": "O14CBDNa21jZ",
        "outputId": "6027072a-88f2-4918-d612-e2b1e1d5736f"
      },
      "source": [
        "df.describe()"
      ],
      "execution_count": 9,
      "outputs": [
        {
          "output_type": "execute_result",
          "data": {
            "text/plain": [
              "       SeniorCitizen       tenure  MonthlyCharges\n",
              "count    7043.000000  7043.000000     7043.000000\n",
              "mean        0.162147    32.371149       64.761692\n",
              "std         0.368612    24.559481       30.090047\n",
              "min         0.000000     0.000000       18.250000\n",
              "25%         0.000000     9.000000       35.500000\n",
              "50%         0.000000    29.000000       70.350000\n",
              "75%         0.000000    55.000000       89.850000\n",
              "max         1.000000    72.000000      118.750000"
            ],
            "text/html": [
              "\n",
              "  <div id=\"df-0779defc-2a11-434d-8043-5f94e70b9357\" class=\"colab-df-container\">\n",
              "    <div>\n",
              "<style scoped>\n",
              "    .dataframe tbody tr th:only-of-type {\n",
              "        vertical-align: middle;\n",
              "    }\n",
              "\n",
              "    .dataframe tbody tr th {\n",
              "        vertical-align: top;\n",
              "    }\n",
              "\n",
              "    .dataframe thead th {\n",
              "        text-align: right;\n",
              "    }\n",
              "</style>\n",
              "<table border=\"1\" class=\"dataframe\">\n",
              "  <thead>\n",
              "    <tr style=\"text-align: right;\">\n",
              "      <th></th>\n",
              "      <th>SeniorCitizen</th>\n",
              "      <th>tenure</th>\n",
              "      <th>MonthlyCharges</th>\n",
              "    </tr>\n",
              "  </thead>\n",
              "  <tbody>\n",
              "    <tr>\n",
              "      <th>count</th>\n",
              "      <td>7043.000000</td>\n",
              "      <td>7043.000000</td>\n",
              "      <td>7043.000000</td>\n",
              "    </tr>\n",
              "    <tr>\n",
              "      <th>mean</th>\n",
              "      <td>0.162147</td>\n",
              "      <td>32.371149</td>\n",
              "      <td>64.761692</td>\n",
              "    </tr>\n",
              "    <tr>\n",
              "      <th>std</th>\n",
              "      <td>0.368612</td>\n",
              "      <td>24.559481</td>\n",
              "      <td>30.090047</td>\n",
              "    </tr>\n",
              "    <tr>\n",
              "      <th>min</th>\n",
              "      <td>0.000000</td>\n",
              "      <td>0.000000</td>\n",
              "      <td>18.250000</td>\n",
              "    </tr>\n",
              "    <tr>\n",
              "      <th>25%</th>\n",
              "      <td>0.000000</td>\n",
              "      <td>9.000000</td>\n",
              "      <td>35.500000</td>\n",
              "    </tr>\n",
              "    <tr>\n",
              "      <th>50%</th>\n",
              "      <td>0.000000</td>\n",
              "      <td>29.000000</td>\n",
              "      <td>70.350000</td>\n",
              "    </tr>\n",
              "    <tr>\n",
              "      <th>75%</th>\n",
              "      <td>0.000000</td>\n",
              "      <td>55.000000</td>\n",
              "      <td>89.850000</td>\n",
              "    </tr>\n",
              "    <tr>\n",
              "      <th>max</th>\n",
              "      <td>1.000000</td>\n",
              "      <td>72.000000</td>\n",
              "      <td>118.750000</td>\n",
              "    </tr>\n",
              "  </tbody>\n",
              "</table>\n",
              "</div>\n",
              "    <div class=\"colab-df-buttons\">\n",
              "\n",
              "  <div class=\"colab-df-container\">\n",
              "    <button class=\"colab-df-convert\" onclick=\"convertToInteractive('df-0779defc-2a11-434d-8043-5f94e70b9357')\"\n",
              "            title=\"Convert this dataframe to an interactive table.\"\n",
              "            style=\"display:none;\">\n",
              "\n",
              "  <svg xmlns=\"http://www.w3.org/2000/svg\" height=\"24px\" viewBox=\"0 -960 960 960\">\n",
              "    <path d=\"M120-120v-720h720v720H120Zm60-500h600v-160H180v160Zm220 220h160v-160H400v160Zm0 220h160v-160H400v160ZM180-400h160v-160H180v160Zm440 0h160v-160H620v160ZM180-180h160v-160H180v160Zm440 0h160v-160H620v160Z\"/>\n",
              "  </svg>\n",
              "    </button>\n",
              "\n",
              "  <style>\n",
              "    .colab-df-container {\n",
              "      display:flex;\n",
              "      gap: 12px;\n",
              "    }\n",
              "\n",
              "    .colab-df-convert {\n",
              "      background-color: #E8F0FE;\n",
              "      border: none;\n",
              "      border-radius: 50%;\n",
              "      cursor: pointer;\n",
              "      display: none;\n",
              "      fill: #1967D2;\n",
              "      height: 32px;\n",
              "      padding: 0 0 0 0;\n",
              "      width: 32px;\n",
              "    }\n",
              "\n",
              "    .colab-df-convert:hover {\n",
              "      background-color: #E2EBFA;\n",
              "      box-shadow: 0px 1px 2px rgba(60, 64, 67, 0.3), 0px 1px 3px 1px rgba(60, 64, 67, 0.15);\n",
              "      fill: #174EA6;\n",
              "    }\n",
              "\n",
              "    .colab-df-buttons div {\n",
              "      margin-bottom: 4px;\n",
              "    }\n",
              "\n",
              "    [theme=dark] .colab-df-convert {\n",
              "      background-color: #3B4455;\n",
              "      fill: #D2E3FC;\n",
              "    }\n",
              "\n",
              "    [theme=dark] .colab-df-convert:hover {\n",
              "      background-color: #434B5C;\n",
              "      box-shadow: 0px 1px 3px 1px rgba(0, 0, 0, 0.15);\n",
              "      filter: drop-shadow(0px 1px 2px rgba(0, 0, 0, 0.3));\n",
              "      fill: #FFFFFF;\n",
              "    }\n",
              "  </style>\n",
              "\n",
              "    <script>\n",
              "      const buttonEl =\n",
              "        document.querySelector('#df-0779defc-2a11-434d-8043-5f94e70b9357 button.colab-df-convert');\n",
              "      buttonEl.style.display =\n",
              "        google.colab.kernel.accessAllowed ? 'block' : 'none';\n",
              "\n",
              "      async function convertToInteractive(key) {\n",
              "        const element = document.querySelector('#df-0779defc-2a11-434d-8043-5f94e70b9357');\n",
              "        const dataTable =\n",
              "          await google.colab.kernel.invokeFunction('convertToInteractive',\n",
              "                                                    [key], {});\n",
              "        if (!dataTable) return;\n",
              "\n",
              "        const docLinkHtml = 'Like what you see? Visit the ' +\n",
              "          '<a target=\"_blank\" href=https://colab.research.google.com/notebooks/data_table.ipynb>data table notebook</a>'\n",
              "          + ' to learn more about interactive tables.';\n",
              "        element.innerHTML = '';\n",
              "        dataTable['output_type'] = 'display_data';\n",
              "        await google.colab.output.renderOutput(dataTable, element);\n",
              "        const docLink = document.createElement('div');\n",
              "        docLink.innerHTML = docLinkHtml;\n",
              "        element.appendChild(docLink);\n",
              "      }\n",
              "    </script>\n",
              "  </div>\n",
              "\n",
              "\n",
              "<div id=\"df-0c4b8e3d-c442-4b09-a274-5a8be41b8308\">\n",
              "  <button class=\"colab-df-quickchart\" onclick=\"quickchart('df-0c4b8e3d-c442-4b09-a274-5a8be41b8308')\"\n",
              "            title=\"Suggest charts\"\n",
              "            style=\"display:none;\">\n",
              "\n",
              "<svg xmlns=\"http://www.w3.org/2000/svg\" height=\"24px\"viewBox=\"0 0 24 24\"\n",
              "     width=\"24px\">\n",
              "    <g>\n",
              "        <path d=\"M19 3H5c-1.1 0-2 .9-2 2v14c0 1.1.9 2 2 2h14c1.1 0 2-.9 2-2V5c0-1.1-.9-2-2-2zM9 17H7v-7h2v7zm4 0h-2V7h2v10zm4 0h-2v-4h2v4z\"/>\n",
              "    </g>\n",
              "</svg>\n",
              "  </button>\n",
              "\n",
              "<style>\n",
              "  .colab-df-quickchart {\n",
              "      --bg-color: #E8F0FE;\n",
              "      --fill-color: #1967D2;\n",
              "      --hover-bg-color: #E2EBFA;\n",
              "      --hover-fill-color: #174EA6;\n",
              "      --disabled-fill-color: #AAA;\n",
              "      --disabled-bg-color: #DDD;\n",
              "  }\n",
              "\n",
              "  [theme=dark] .colab-df-quickchart {\n",
              "      --bg-color: #3B4455;\n",
              "      --fill-color: #D2E3FC;\n",
              "      --hover-bg-color: #434B5C;\n",
              "      --hover-fill-color: #FFFFFF;\n",
              "      --disabled-bg-color: #3B4455;\n",
              "      --disabled-fill-color: #666;\n",
              "  }\n",
              "\n",
              "  .colab-df-quickchart {\n",
              "    background-color: var(--bg-color);\n",
              "    border: none;\n",
              "    border-radius: 50%;\n",
              "    cursor: pointer;\n",
              "    display: none;\n",
              "    fill: var(--fill-color);\n",
              "    height: 32px;\n",
              "    padding: 0;\n",
              "    width: 32px;\n",
              "  }\n",
              "\n",
              "  .colab-df-quickchart:hover {\n",
              "    background-color: var(--hover-bg-color);\n",
              "    box-shadow: 0 1px 2px rgba(60, 64, 67, 0.3), 0 1px 3px 1px rgba(60, 64, 67, 0.15);\n",
              "    fill: var(--button-hover-fill-color);\n",
              "  }\n",
              "\n",
              "  .colab-df-quickchart-complete:disabled,\n",
              "  .colab-df-quickchart-complete:disabled:hover {\n",
              "    background-color: var(--disabled-bg-color);\n",
              "    fill: var(--disabled-fill-color);\n",
              "    box-shadow: none;\n",
              "  }\n",
              "\n",
              "  .colab-df-spinner {\n",
              "    border: 2px solid var(--fill-color);\n",
              "    border-color: transparent;\n",
              "    border-bottom-color: var(--fill-color);\n",
              "    animation:\n",
              "      spin 1s steps(1) infinite;\n",
              "  }\n",
              "\n",
              "  @keyframes spin {\n",
              "    0% {\n",
              "      border-color: transparent;\n",
              "      border-bottom-color: var(--fill-color);\n",
              "      border-left-color: var(--fill-color);\n",
              "    }\n",
              "    20% {\n",
              "      border-color: transparent;\n",
              "      border-left-color: var(--fill-color);\n",
              "      border-top-color: var(--fill-color);\n",
              "    }\n",
              "    30% {\n",
              "      border-color: transparent;\n",
              "      border-left-color: var(--fill-color);\n",
              "      border-top-color: var(--fill-color);\n",
              "      border-right-color: var(--fill-color);\n",
              "    }\n",
              "    40% {\n",
              "      border-color: transparent;\n",
              "      border-right-color: var(--fill-color);\n",
              "      border-top-color: var(--fill-color);\n",
              "    }\n",
              "    60% {\n",
              "      border-color: transparent;\n",
              "      border-right-color: var(--fill-color);\n",
              "    }\n",
              "    80% {\n",
              "      border-color: transparent;\n",
              "      border-right-color: var(--fill-color);\n",
              "      border-bottom-color: var(--fill-color);\n",
              "    }\n",
              "    90% {\n",
              "      border-color: transparent;\n",
              "      border-bottom-color: var(--fill-color);\n",
              "    }\n",
              "  }\n",
              "</style>\n",
              "\n",
              "  <script>\n",
              "    async function quickchart(key) {\n",
              "      const quickchartButtonEl =\n",
              "        document.querySelector('#' + key + ' button');\n",
              "      quickchartButtonEl.disabled = true;  // To prevent multiple clicks.\n",
              "      quickchartButtonEl.classList.add('colab-df-spinner');\n",
              "      try {\n",
              "        const charts = await google.colab.kernel.invokeFunction(\n",
              "            'suggestCharts', [key], {});\n",
              "      } catch (error) {\n",
              "        console.error('Error during call to suggestCharts:', error);\n",
              "      }\n",
              "      quickchartButtonEl.classList.remove('colab-df-spinner');\n",
              "      quickchartButtonEl.classList.add('colab-df-quickchart-complete');\n",
              "    }\n",
              "    (() => {\n",
              "      let quickchartButtonEl =\n",
              "        document.querySelector('#df-0c4b8e3d-c442-4b09-a274-5a8be41b8308 button');\n",
              "      quickchartButtonEl.style.display =\n",
              "        google.colab.kernel.accessAllowed ? 'block' : 'none';\n",
              "    })();\n",
              "  </script>\n",
              "</div>\n",
              "    </div>\n",
              "  </div>\n"
            ]
          },
          "metadata": {},
          "execution_count": 9
        }
      ]
    },
    {
      "cell_type": "markdown",
      "metadata": {
        "id": "VqZQjTaMxnT3"
      },
      "source": [
        "Features \"TotalCharges\" and Dhas wrong type. It shoud be converted to float64.\n"
      ]
    },
    {
      "cell_type": "code",
      "metadata": {
        "id": "fTzdjl73zGit",
        "colab": {
          "base_uri": "https://localhost:8080/",
          "height": 305
        },
        "outputId": "ee81bb6b-4426-4863-c761-42109ba8d68e"
      },
      "source": [
        "df['TotalCharges'] = pd.to_numeric(df['TotalCharges'])"
      ],
      "execution_count": 10,
      "outputs": [
        {
          "output_type": "error",
          "ename": "ValueError",
          "evalue": "ignored",
          "traceback": [
            "\u001b[0;31m---------------------------------------------------------------------------\u001b[0m",
            "\u001b[0;31mValueError\u001b[0m                                Traceback (most recent call last)",
            "\u001b[0;32m/usr/local/lib/python3.10/dist-packages/pandas/_libs/lib.pyx\u001b[0m in \u001b[0;36mpandas._libs.lib.maybe_convert_numeric\u001b[0;34m()\u001b[0m\n",
            "\u001b[0;31mValueError\u001b[0m: Unable to parse string \" \"",
            "\nDuring handling of the above exception, another exception occurred:\n",
            "\u001b[0;31mValueError\u001b[0m                                Traceback (most recent call last)",
            "\u001b[0;32m<ipython-input-10-1b11d6a2f456>\u001b[0m in \u001b[0;36m<cell line: 1>\u001b[0;34m()\u001b[0m\n\u001b[0;32m----> 1\u001b[0;31m \u001b[0mdf\u001b[0m\u001b[0;34m[\u001b[0m\u001b[0;34m'TotalCharges'\u001b[0m\u001b[0;34m]\u001b[0m \u001b[0;34m=\u001b[0m \u001b[0mpd\u001b[0m\u001b[0;34m.\u001b[0m\u001b[0mto_numeric\u001b[0m\u001b[0;34m(\u001b[0m\u001b[0mdf\u001b[0m\u001b[0;34m[\u001b[0m\u001b[0;34m'TotalCharges'\u001b[0m\u001b[0;34m]\u001b[0m\u001b[0;34m)\u001b[0m\u001b[0;34m\u001b[0m\u001b[0;34m\u001b[0m\u001b[0m\n\u001b[0m",
            "\u001b[0;32m/usr/local/lib/python3.10/dist-packages/pandas/core/tools/numeric.py\u001b[0m in \u001b[0;36mto_numeric\u001b[0;34m(arg, errors, downcast)\u001b[0m\n\u001b[1;32m    183\u001b[0m         \u001b[0mcoerce_numeric\u001b[0m \u001b[0;34m=\u001b[0m \u001b[0merrors\u001b[0m \u001b[0;32mnot\u001b[0m \u001b[0;32min\u001b[0m \u001b[0;34m(\u001b[0m\u001b[0;34m\"ignore\"\u001b[0m\u001b[0;34m,\u001b[0m \u001b[0;34m\"raise\"\u001b[0m\u001b[0;34m)\u001b[0m\u001b[0;34m\u001b[0m\u001b[0;34m\u001b[0m\u001b[0m\n\u001b[1;32m    184\u001b[0m         \u001b[0;32mtry\u001b[0m\u001b[0;34m:\u001b[0m\u001b[0;34m\u001b[0m\u001b[0;34m\u001b[0m\u001b[0m\n\u001b[0;32m--> 185\u001b[0;31m             values, _ = lib.maybe_convert_numeric(\n\u001b[0m\u001b[1;32m    186\u001b[0m                 \u001b[0mvalues\u001b[0m\u001b[0;34m,\u001b[0m \u001b[0mset\u001b[0m\u001b[0;34m(\u001b[0m\u001b[0;34m)\u001b[0m\u001b[0;34m,\u001b[0m \u001b[0mcoerce_numeric\u001b[0m\u001b[0;34m=\u001b[0m\u001b[0mcoerce_numeric\u001b[0m\u001b[0;34m\u001b[0m\u001b[0;34m\u001b[0m\u001b[0m\n\u001b[1;32m    187\u001b[0m             )\n",
            "\u001b[0;32m/usr/local/lib/python3.10/dist-packages/pandas/_libs/lib.pyx\u001b[0m in \u001b[0;36mpandas._libs.lib.maybe_convert_numeric\u001b[0;34m()\u001b[0m\n",
            "\u001b[0;31mValueError\u001b[0m: Unable to parse string \" \" at position 488"
          ]
        }
      ]
    },
    {
      "cell_type": "code",
      "metadata": {
        "id": "HbamoqhUHyXA",
        "colab": {
          "base_uri": "https://localhost:8080/"
        },
        "outputId": "82ede586-bdc2-4221-e28f-1f6871a9bf02"
      },
      "source": [
        "df[df['TotalCharges'] == ' '].shape[0]"
      ],
      "execution_count": 11,
      "outputs": [
        {
          "output_type": "execute_result",
          "data": {
            "text/plain": [
              "11"
            ]
          },
          "metadata": {},
          "execution_count": 11
        }
      ]
    },
    {
      "cell_type": "markdown",
      "metadata": {
        "id": "pdrpkoroRbYu"
      },
      "source": [
        "We've got 11 strings = \" \", that's why we cant convert feature to float64. We'll change ' ' for nan, and then change feature's type."
      ]
    },
    {
      "cell_type": "code",
      "metadata": {
        "id": "KPxFxExbSaha"
      },
      "source": [
        "df.loc[df['TotalCharges'] == ' ', 'TotalCharges'] = np.nan"
      ],
      "execution_count": 12,
      "outputs": []
    },
    {
      "cell_type": "code",
      "metadata": {
        "id": "8zzAxO5OYT2c"
      },
      "source": [
        "df['TotalCharges'] = df['TotalCharges'].astype('float64')"
      ],
      "execution_count": 13,
      "outputs": []
    },
    {
      "cell_type": "code",
      "metadata": {
        "colab": {
          "base_uri": "https://localhost:8080/",
          "height": 451
        },
        "id": "BPU7IcIkxt7x",
        "outputId": "38d17c46-c457-48d4-84d0-4c2c32c2cebf"
      },
      "source": [
        "df['TotalCharges'].plot.kde()"
      ],
      "execution_count": 14,
      "outputs": [
        {
          "output_type": "execute_result",
          "data": {
            "text/plain": [
              "<Axes: ylabel='Density'>"
            ]
          },
          "metadata": {},
          "execution_count": 14
        },
        {
          "output_type": "display_data",
          "data": {
            "text/plain": [
              "<Figure size 640x480 with 1 Axes>"
            ],
            "image/png": "[encoded data removed]"
          },
          "metadata": {}
        }
      ]
    },
    {
      "cell_type": "markdown",
      "metadata": {
        "id": "091QVHPK3VGb"
      },
      "source": [
        "As out feature is skewed, asymmetric we can't use mean value to fill NaNs because it can give us missleading representation of data that's why we use meidan here"
      ]
    },
    {
      "cell_type": "code",
      "metadata": {
        "id": "ATk_mSsmWJ0c"
      },
      "source": [
        "median = float(df['TotalCharges'].median())\n",
        "df['TotalCharges'].fillna(float(median), inplace=True)\n"
      ],
      "execution_count": 15,
      "outputs": []
    },
    {
      "cell_type": "code",
      "metadata": {
        "colab": {
          "base_uri": "https://localhost:8080/"
        },
        "id": "2r8PgPvzr8Ps",
        "outputId": "e0ef6b84-8e5d-4958-f780-4cdb829022f0"
      },
      "source": [
        "df.isna().any()"
      ],
      "execution_count": 16,
      "outputs": [
        {
          "output_type": "execute_result",
          "data": {
            "text/plain": [
              "customerID          False\n",
              "gender              False\n",
              "SeniorCitizen       False\n",
              "Partner             False\n",
              "Dependents          False\n",
              "tenure              False\n",
              "PhoneService        False\n",
              "MultipleLines       False\n",
              "InternetService     False\n",
              "OnlineSecurity      False\n",
              "OnlineBackup        False\n",
              "DeviceProtection    False\n",
              "TechSupport         False\n",
              "StreamingTV         False\n",
              "StreamingMovies     False\n",
              "Contract            False\n",
              "PaperlessBilling    False\n",
              "PaymentMethod       False\n",
              "MonthlyCharges      False\n",
              "TotalCharges        False\n",
              "Churn               False\n",
              "dtype: bool"
            ]
          },
          "metadata": {},
          "execution_count": 16
        }
      ]
    },
    {
      "cell_type": "markdown",
      "metadata": {
        "id": "jMDFqElGxBI1"
      },
      "source": [
        "Feature 'customerID' doesn't have any information value"
      ]
    },
    {
      "cell_type": "code",
      "metadata": {
        "id": "ZDmc_LZQjQ2H"
      },
      "source": [
        "df.drop('customerID', axis=1, inplace=True)"
      ],
      "execution_count": 17,
      "outputs": []
    },
    {
      "cell_type": "markdown",
      "metadata": {
        "id": "AHPYsiT7XdXk"
      },
      "source": [
        "Now we can observe if the dataset has outliers. Box-plots will help us"
      ]
    },
    {
      "cell_type": "code",
      "metadata": {
        "id": "Y11NN76jjtib",
        "colab": {
          "base_uri": "https://localhost:8080/",
          "height": 300
        },
        "outputId": "a12441fe-5c42-44f6-c6b2-e8a2ea6e7a7c"
      },
      "source": [
        "df.describe()"
      ],
      "execution_count": 18,
      "outputs": [
        {
          "output_type": "execute_result",
          "data": {
            "text/plain": [
              "       SeniorCitizen       tenure  MonthlyCharges  TotalCharges\n",
              "count    7043.000000  7043.000000     7043.000000   7043.000000\n",
              "mean        0.162147    32.371149       64.761692   2281.916928\n",
              "std         0.368612    24.559481       30.090047   2265.270398\n",
              "min         0.000000     0.000000       18.250000     18.800000\n",
              "25%         0.000000     9.000000       35.500000    402.225000\n",
              "50%         0.000000    29.000000       70.350000   1397.475000\n",
              "75%         0.000000    55.000000       89.850000   3786.600000\n",
              "max         1.000000    72.000000      118.750000   8684.800000"
            ],
            "text/html": [
              "\n",
              "  <div id=\"df-4312b6dd-a1d1-4ac5-a84a-ecf6631bf656\" class=\"colab-df-container\">\n",
              "    <div>\n",
              "<style scoped>\n",
              "    .dataframe tbody tr th:only-of-type {\n",
              "        vertical-align: middle;\n",
              "    }\n",
              "\n",
              "    .dataframe tbody tr th {\n",
              "        vertical-align: top;\n",
              "    }\n",
              "\n",
              "    .dataframe thead th {\n",
              "        text-align: right;\n",
              "    }\n",
              "</style>\n",
              "<table border=\"1\" class=\"dataframe\">\n",
              "  <thead>\n",
              "    <tr style=\"text-align: right;\">\n",
              "      <th></th>\n",
              "      <th>SeniorCitizen</th>\n",
              "      <th>tenure</th>\n",
              "      <th>MonthlyCharges</th>\n",
              "      <th>TotalCharges</th>\n",
              "    </tr>\n",
              "  </thead>\n",
              "  <tbody>\n",
              "    <tr>\n",
              "      <th>count</th>\n",
              "      <td>7043.000000</td>\n",
              "      <td>7043.000000</td>\n",
              "      <td>7043.000000</td>\n",
              "      <td>7043.000000</td>\n",
              "    </tr>\n",
              "    <tr>\n",
              "      <th>mean</th>\n",
              "      <td>0.162147</td>\n",
              "      <td>32.371149</td>\n",
              "      <td>64.761692</td>\n",
              "      <td>2281.916928</td>\n",
              "    </tr>\n",
              "    <tr>\n",
              "      <th>std</th>\n",
              "      <td>0.368612</td>\n",
              "      <td>24.559481</td>\n",
              "      <td>30.090047</td>\n",
              "      <td>2265.270398</td>\n",
              "    </tr>\n",
              "    <tr>\n",
              "      <th>min</th>\n",
              "      <td>0.000000</td>\n",
              "      <td>0.000000</td>\n",
              "      <td>18.250000</td>\n",
              "      <td>18.800000</td>\n",
              "    </tr>\n",
              "    <tr>\n",
              "      <th>25%</th>\n",
              "      <td>0.000000</td>\n",
              "      <td>9.000000</td>\n",
              "      <td>35.500000</td>\n",
              "      <td>402.225000</td>\n",
              "    </tr>\n",
              "    <tr>\n",
              "      <th>50%</th>\n",
              "      <td>0.000000</td>\n",
              "      <td>29.000000</td>\n",
              "      <td>70.350000</td>\n",
              "      <td>1397.475000</td>\n",
              "    </tr>\n",
              "    <tr>\n",
              "      <th>75%</th>\n",
              "      <td>0.000000</td>\n",
              "      <td>55.000000</td>\n",
              "      <td>89.850000</td>\n",
              "      <td>3786.600000</td>\n",
              "    </tr>\n",
              "    <tr>\n",
              "      <th>max</th>\n",
              "      <td>1.000000</td>\n",
              "      <td>72.000000</td>\n",
              "      <td>118.750000</td>\n",
              "      <td>8684.800000</td>\n",
              "    </tr>\n",
              "  </tbody>\n",
              "</table>\n",
              "</div>\n",
              "    <div class=\"colab-df-buttons\">\n",
              "\n",
              "  <div class=\"colab-df-container\">\n",
              "    <button class=\"colab-df-convert\" onclick=\"convertToInteractive('df-4312b6dd-a1d1-4ac5-a84a-ecf6631bf656')\"\n",
              "            title=\"Convert this dataframe to an interactive table.\"\n",
              "            style=\"display:none;\">\n",
              "\n",
              "  <svg xmlns=\"http://www.w3.org/2000/svg\" height=\"24px\" viewBox=\"0 -960 960 960\">\n",
              "    <path d=\"M120-120v-720h720v720H120Zm60-500h600v-160H180v160Zm220 220h160v-160H400v160Zm0 220h160v-160H400v160ZM180-400h160v-160H180v160Zm440 0h160v-160H620v160ZM180-180h160v-160H180v160Zm440 0h160v-160H620v160Z\"/>\n",
              "  </svg>\n",
              "    </button>\n",
              "\n",
              "  <style>\n",
              "    .colab-df-container {\n",
              "      display:flex;\n",
              "      gap: 12px;\n",
              "    }\n",
              "\n",
              "    .colab-df-convert {\n",
              "      background-color: #E8F0FE;\n",
              "      border: none;\n",
              "      border-radius: 50%;\n",
              "      cursor: pointer;\n",
              "      display: none;\n",
              "      fill: #1967D2;\n",
              "      height: 32px;\n",
              "      padding: 0 0 0 0;\n",
              "      width: 32px;\n",
              "    }\n",
              "\n",
              "    .colab-df-convert:hover {\n",
              "      background-color: #E2EBFA;\n",
              "      box-shadow: 0px 1px 2px rgba(60, 64, 67, 0.3), 0px 1px 3px 1px rgba(60, 64, 67, 0.15);\n",
              "      fill: #174EA6;\n",
              "    }\n",
              "\n",
              "    .colab-df-buttons div {\n",
              "      margin-bottom: 4px;\n",
              "    }\n",
              "\n",
              "    [theme=dark] .colab-df-convert {\n",
              "      background-color: #3B4455;\n",
              "      fill: #D2E3FC;\n",
              "    }\n",
              "\n",
              "    [theme=dark] .colab-df-convert:hover {\n",
              "      background-color: #434B5C;\n",
              "      box-shadow: 0px 1px 3px 1px rgba(0, 0, 0, 0.15);\n",
              "      filter: drop-shadow(0px 1px 2px rgba(0, 0, 0, 0.3));\n",
              "      fill: #FFFFFF;\n",
              "    }\n",
              "  </style>\n",
              "\n",
              "    <script>\n",
              "      const buttonEl =\n",
              "        document.querySelector('#df-4312b6dd-a1d1-4ac5-a84a-ecf6631bf656 button.colab-df-convert');\n",
              "      buttonEl.style.display =\n",
              "        google.colab.kernel.accessAllowed ? 'block' : 'none';\n",
              "\n",
              "      async function convertToInteractive(key) {\n",
              "        const element = document.querySelector('#df-4312b6dd-a1d1-4ac5-a84a-ecf6631bf656');\n",
              "        const dataTable =\n",
              "          await google.colab.kernel.invokeFunction('convertToInteractive',\n",
              "                                                    [key], {});\n",
              "        if (!dataTable) return;\n",
              "\n",
              "        const docLinkHtml = 'Like what you see? Visit the ' +\n",
              "          '<a target=\"_blank\" href=https://colab.research.google.com/notebooks/data_table.ipynb>data table notebook</a>'\n",
              "          + ' to learn more about interactive tables.';\n",
              "        element.innerHTML = '';\n",
              "        dataTable['output_type'] = 'display_data';\n",
              "        await google.colab.output.renderOutput(dataTable, element);\n",
              "        const docLink = document.createElement('div');\n",
              "        docLink.innerHTML = docLinkHtml;\n",
              "        element.appendChild(docLink);\n",
              "      }\n",
              "    </script>\n",
              "  </div>\n",
              "\n",
              "\n",
              "<div id=\"df-bd27eec5-9779-4a89-b26d-053d0b6936cc\">\n",
              "  <button class=\"colab-df-quickchart\" onclick=\"quickchart('df-bd27eec5-9779-4a89-b26d-053d0b6936cc')\"\n",
              "            title=\"Suggest charts\"\n",
              "            style=\"display:none;\">\n",
              "\n",
              "<svg xmlns=\"http://www.w3.org/2000/svg\" height=\"24px\"viewBox=\"0 0 24 24\"\n",
              "     width=\"24px\">\n",
              "    <g>\n",
              "        <path d=\"M19 3H5c-1.1 0-2 .9-2 2v14c0 1.1.9 2 2 2h14c1.1 0 2-.9 2-2V5c0-1.1-.9-2-2-2zM9 17H7v-7h2v7zm4 0h-2V7h2v10zm4 0h-2v-4h2v4z\"/>\n",
              "    </g>\n",
              "</svg>\n",
              "  </button>\n",
              "\n",
              "<style>\n",
              "  .colab-df-quickchart {\n",
              "      --bg-color: #E8F0FE;\n",
              "      --fill-color: #1967D2;\n",
              "      --hover-bg-color: #E2EBFA;\n",
              "      --hover-fill-color: #174EA6;\n",
              "      --disabled-fill-color: #AAA;\n",
              "      --disabled-bg-color: #DDD;\n",
              "  }\n",
              "\n",
              "  [theme=dark] .colab-df-quickchart {\n",
              "      --bg-color: #3B4455;\n",
              "      --fill-color: #D2E3FC;\n",
              "      --hover-bg-color: #434B5C;\n",
              "      --hover-fill-color: #FFFFFF;\n",
              "      --disabled-bg-color: #3B4455;\n",
              "      --disabled-fill-color: #666;\n",
              "  }\n",
              "\n",
              "  .colab-df-quickchart {\n",
              "    background-color: var(--bg-color);\n",
              "    border: none;\n",
              "    border-radius: 50%;\n",
              "    cursor: pointer;\n",
              "    display: none;\n",
              "    fill: var(--fill-color);\n",
              "    height: 32px;\n",
              "    padding: 0;\n",
              "    width: 32px;\n",
              "  }\n",
              "\n",
              "  .colab-df-quickchart:hover {\n",
              "    background-color: var(--hover-bg-color);\n",
              "    box-shadow: 0 1px 2px rgba(60, 64, 67, 0.3), 0 1px 3px 1px rgba(60, 64, 67, 0.15);\n",
              "    fill: var(--button-hover-fill-color);\n",
              "  }\n",
              "\n",
              "  .colab-df-quickchart-complete:disabled,\n",
              "  .colab-df-quickchart-complete:disabled:hover {\n",
              "    background-color: var(--disabled-bg-color);\n",
              "    fill: var(--disabled-fill-color);\n",
              "    box-shadow: none;\n",
              "  }\n",
              "\n",
              "  .colab-df-spinner {\n",
              "    border: 2px solid var(--fill-color);\n",
              "    border-color: transparent;\n",
              "    border-bottom-color: var(--fill-color);\n",
              "    animation:\n",
              "      spin 1s steps(1) infinite;\n",
              "  }\n",
              "\n",
              "  @keyframes spin {\n",
              "    0% {\n",
              "      border-color: transparent;\n",
              "      border-bottom-color: var(--fill-color);\n",
              "      border-left-color: var(--fill-color);\n",
              "    }\n",
              "    20% {\n",
              "      border-color: transparent;\n",
              "      border-left-color: var(--fill-color);\n",
              "      border-top-color: var(--fill-color);\n",
              "    }\n",
              "    30% {\n",
              "      border-color: transparent;\n",
              "      border-left-color: var(--fill-color);\n",
              "      border-top-color: var(--fill-color);\n",
              "      border-right-color: var(--fill-color);\n",
              "    }\n",
              "    40% {\n",
              "      border-color: transparent;\n",
              "      border-right-color: var(--fill-color);\n",
              "      border-top-color: var(--fill-color);\n",
              "    }\n",
              "    60% {\n",
              "      border-color: transparent;\n",
              "      border-right-color: var(--fill-color);\n",
              "    }\n",
              "    80% {\n",
              "      border-color: transparent;\n",
              "      border-right-color: var(--fill-color);\n",
              "      border-bottom-color: var(--fill-color);\n",
              "    }\n",
              "    90% {\n",
              "      border-color: transparent;\n",
              "      border-bottom-color: var(--fill-color);\n",
              "    }\n",
              "  }\n",
              "</style>\n",
              "\n",
              "  <script>\n",
              "    async function quickchart(key) {\n",
              "      const quickchartButtonEl =\n",
              "        document.querySelector('#' + key + ' button');\n",
              "      quickchartButtonEl.disabled = true;  // To prevent multiple clicks.\n",
              "      quickchartButtonEl.classList.add('colab-df-spinner');\n",
              "      try {\n",
              "        const charts = await google.colab.kernel.invokeFunction(\n",
              "            'suggestCharts', [key], {});\n",
              "      } catch (error) {\n",
              "        console.error('Error during call to suggestCharts:', error);\n",
              "      }\n",
              "      quickchartButtonEl.classList.remove('colab-df-spinner');\n",
              "      quickchartButtonEl.classList.add('colab-df-quickchart-complete');\n",
              "    }\n",
              "    (() => {\n",
              "      let quickchartButtonEl =\n",
              "        document.querySelector('#df-bd27eec5-9779-4a89-b26d-053d0b6936cc button');\n",
              "      quickchartButtonEl.style.display =\n",
              "        google.colab.kernel.accessAllowed ? 'block' : 'none';\n",
              "    })();\n",
              "  </script>\n",
              "</div>\n",
              "    </div>\n",
              "  </div>\n"
            ]
          },
          "metadata": {},
          "execution_count": 18
        }
      ]
    },
    {
      "cell_type": "code",
      "metadata": {
        "id": "QU-sam4qXAjI"
      },
      "source": [
        "#################################################################################################################################"
      ],
      "execution_count": null,
      "outputs": []
    },
    {
      "cell_type": "code",
      "metadata": {
        "colab": {
          "base_uri": "https://localhost:8080/"
        },
        "id": "RCLaJfspXBER",
        "outputId": "2990979e-f391-4d3e-ecfe-0bfc2e61eda1"
      },
      "source": [
        "df.info()"
      ],
      "execution_count": 19,
      "outputs": [
        {
          "output_type": "stream",
          "name": "stdout",
          "text": [
            "<class 'pandas.core.frame.DataFrame'>\n",
            "RangeIndex: 7043 entries, 0 to 7042\n",
            "Data columns (total 20 columns):\n",
            " #   Column            Non-Null Count  Dtype  \n",
            "---  ------            --------------  -----  \n",
            " 0   gender            7043 non-null   object \n",
            " 1   SeniorCitizen     7043 non-null   int64  \n",
            " 2   Partner           7043 non-null   object \n",
            " 3   Dependents        7043 non-null   object \n",
            " 4   tenure            7043 non-null   int64  \n",
            " 5   PhoneService      7043 non-null   object \n",
            " 6   MultipleLines     7043 non-null   object \n",
            " 7   InternetService   7043 non-null   object \n",
            " 8   OnlineSecurity    7043 non-null   object \n",
            " 9   OnlineBackup      7043 non-null   object \n",
            " 10  DeviceProtection  7043 non-null   object \n",
            " 11  TechSupport       7043 non-null   object \n",
            " 12  StreamingTV       7043 non-null   object \n",
            " 13  StreamingMovies   7043 non-null   object \n",
            " 14  Contract          7043 non-null   object \n",
            " 15  PaperlessBilling  7043 non-null   object \n",
            " 16  PaymentMethod     7043 non-null   object \n",
            " 17  MonthlyCharges    7043 non-null   float64\n",
            " 18  TotalCharges      7043 non-null   float64\n",
            " 19  Churn             7043 non-null   object \n",
            "dtypes: float64(2), int64(2), object(16)\n",
            "memory usage: 1.1+ MB\n"
          ]
        }
      ]
    },
    {
      "cell_type": "code",
      "metadata": {
        "id": "r2CpOA9oqf5U",
        "colab": {
          "base_uri": "https://localhost:8080/",
          "height": 594
        },
        "outputId": "089440db-4b1a-4f2c-fd6c-4847b9a6d436"
      },
      "source": [
        "# Box plots for continious features 'TotalCharges' и 'MonthlyCharges'\n",
        "fig, ax = plt.subplots(nrows=1, ncols=2, figsize=(20,7))\n",
        "\n",
        "\n",
        "sns.boxplot(x=df['TotalCharges'], ax=ax[0])\n",
        "sns.boxplot(x=df['MonthlyCharges'], ax=ax[1])"
      ],
      "execution_count": 20,
      "outputs": [
        {
          "output_type": "execute_result",
          "data": {
            "text/plain": [
              "<Axes: xlabel='MonthlyCharges'>"
            ]
          },
          "metadata": {},
          "execution_count": 20
        },
        {
          "output_type": "display_data",
          "data": {
            "text/plain": [
              "<Figure size 2000x700 with 2 Axes>"
            ],
            "image/png": "[encoded data removed]"
          },
          "metadata": {}
        }
      ]
    },
    {
      "cell_type": "markdown",
      "metadata": {
        "id": "Vvh8x8k5Zu9N"
      },
      "source": [
        "We shall also check the target's distibution\n"
      ]
    },
    {
      "cell_type": "code",
      "metadata": {
        "id": "R0cnXav8gNG4",
        "colab": {
          "base_uri": "https://localhost:8080/"
        },
        "outputId": "24659551-6e62-4f0f-fe18-3a73a601a92b"
      },
      "source": [
        "print(df['Churn'].value_counts())\n",
        "print(str(round(df[df['Churn'] == 'Yes'].shape[0] / df.shape[0]*100, 2)) + '%%')"
      ],
      "execution_count": 21,
      "outputs": [
        {
          "output_type": "stream",
          "name": "stdout",
          "text": [
            "No     5174\n",
            "Yes    1869\n",
            "Name: Churn, dtype: int64\n",
            "26.54%%\n"
          ]
        }
      ]
    },
    {
      "cell_type": "markdown",
      "source": [
        "*We*'ve got imbalanced dataset.\n",
        "\n",
        "Now, we need to observe correlation of our features"
      ],
      "metadata": {
        "id": "t2pCv0U6AOHk"
      }
    },
    {
      "cell_type": "code",
      "metadata": {
        "colab": {
          "base_uri": "https://localhost:8080/",
          "height": 884
        },
        "id": "8PF5_SVEJGM7",
        "outputId": "cf189711-19bd-427d-ef3e-dad6b7f0a0c0"
      },
      "source": [
        "fig = plt.figure(figsize=(10,10))\n",
        "sns.heatmap(df.corr(), annot=True, square=True)"
      ],
      "execution_count": 22,
      "outputs": [
        {
          "output_type": "stream",
          "name": "stderr",
          "text": [
            "<ipython-input-22-e6633a40f71d>:2: FutureWarning: The default value of numeric_only in DataFrame.corr is deprecated. In a future version, it will default to False. Select only valid columns or specify the value of numeric_only to silence this warning.\n",
            "  sns.heatmap(df.corr(), annot=True, square=True)\n"
          ]
        },
        {
          "output_type": "execute_result",
          "data": {
            "text/plain": [
              "<Axes: >"
            ]
          },
          "metadata": {},
          "execution_count": 22
        },
        {
          "output_type": "display_data",
          "data": {
            "text/plain": [
              "<Figure size 1000x1000 with 2 Axes>"
            ],
            "image/png": "[encoded data removed]"
          },
          "metadata": {}
        }
      ]
    },
    {
      "cell_type": "markdown",
      "source": [
        "As we can see, feature \"TotalCharges\" higly correlates with \"tenure\" and \"MonthlyCharges\""
      ],
      "metadata": {
        "id": "WJgihcROAZF4"
      }
    },
    {
      "cell_type": "markdown",
      "metadata": {
        "id": "q1l9hR-Ej2lL"
      },
      "source": [
        "# Data preparation\n",
        "\n",
        "Checking out unique values of categorical columns to figure out could we transorm them to binaries"
      ]
    },
    {
      "cell_type": "code",
      "metadata": {
        "id": "sPjdro0hnUnH",
        "colab": {
          "base_uri": "https://localhost:8080/"
        },
        "outputId": "6c698360-ad58-4f47-bc1a-e9928e8deac0"
      },
      "source": [
        "def unique_values():\n",
        "  cat_columns = np.unique(df.select_dtypes('object').columns)\n",
        "  for i in cat_columns:\n",
        "    print(i, df[i].unique())\n",
        "\n",
        "unique_values()"
      ],
      "execution_count": 24,
      "outputs": [
        {
          "output_type": "stream",
          "name": "stdout",
          "text": [
            "Churn ['No' 'Yes']\n",
            "Contract ['Month-to-month' 'One year' 'Two year']\n",
            "Dependents ['No' 'Yes']\n",
            "DeviceProtection ['No' 'Yes' 'No internet service']\n",
            "InternetService ['DSL' 'Fiber optic' 'No']\n",
            "MultipleLines ['No phone service' 'No' 'Yes']\n",
            "OnlineBackup ['Yes' 'No' 'No internet service']\n",
            "OnlineSecurity ['No' 'Yes' 'No internet service']\n",
            "PaperlessBilling ['Yes' 'No']\n",
            "Partner ['Yes' 'No']\n",
            "PaymentMethod ['Electronic check' 'Mailed check' 'Bank transfer (automatic)'\n",
            " 'Credit card (automatic)']\n",
            "PhoneService ['No' 'Yes']\n",
            "StreamingMovies ['No' 'Yes' 'No internet service']\n",
            "StreamingTV ['No' 'Yes' 'No internet service']\n",
            "TechSupport ['No' 'Yes' 'No internet service']\n",
            "gender ['Female' 'Male']\n"
          ]
        }
      ]
    },
    {
      "cell_type": "code",
      "metadata": {
        "colab": {
          "base_uri": "https://localhost:8080/"
        },
        "id": "3pgJ2m0lrBdS",
        "outputId": "be3e4d5a-7e93-420c-b6b8-c92878eb4c71"
      },
      "source": [
        "df[(df['PhoneService'] == 'No')&\n",
        "   (df['InternetService'] != 'No')]['Churn'].value_counts()"
      ],
      "execution_count": 25,
      "outputs": [
        {
          "output_type": "execute_result",
          "data": {
            "text/plain": [
              "No     512\n",
              "Yes    170\n",
              "Name: Churn, dtype: int64"
            ]
          },
          "metadata": {},
          "execution_count": 25
        }
      ]
    },
    {
      "cell_type": "code",
      "metadata": {
        "colab": {
          "base_uri": "https://localhost:8080/"
        },
        "id": "Q5BzWJJZrSzU",
        "outputId": "d6779a03-1112-4a73-b8c9-d4ca5db6014b"
      },
      "source": [
        "round(170/512*100, 1)"
      ],
      "execution_count": 26,
      "outputs": [
        {
          "output_type": "execute_result",
          "data": {
            "text/plain": [
              "33.2"
            ]
          },
          "metadata": {},
          "execution_count": 26
        }
      ]
    },
    {
      "cell_type": "code",
      "metadata": {
        "colab": {
          "base_uri": "https://localhost:8080/"
        },
        "id": "lQQLwzc7o8Yc",
        "outputId": "62a31450-7cb9-4124-c128-c9a67805b40f"
      },
      "source": [
        "df[df['InternetService'] == 'No']['Churn'].value_counts()"
      ],
      "execution_count": 27,
      "outputs": [
        {
          "output_type": "execute_result",
          "data": {
            "text/plain": [
              "No     1413\n",
              "Yes     113\n",
              "Name: Churn, dtype: int64"
            ]
          },
          "metadata": {},
          "execution_count": 27
        }
      ]
    },
    {
      "cell_type": "code",
      "metadata": {
        "colab": {
          "base_uri": "https://localhost:8080/"
        },
        "id": "Va6VJvZsraTF",
        "outputId": "90291835-aa88-4ac5-91f5-e7092eebfec2"
      },
      "source": [
        "round(113/1413*100, 1)"
      ],
      "execution_count": 28,
      "outputs": [
        {
          "output_type": "execute_result",
          "data": {
            "text/plain": [
              "8.0"
            ]
          },
          "metadata": {},
          "execution_count": 28
        }
      ]
    },
    {
      "cell_type": "code",
      "metadata": {
        "colab": {
          "base_uri": "https://localhost:8080/"
        },
        "id": "gl8NuKKZpqLN",
        "outputId": "c4c45181-ea4e-4027-bc99-2cc704e673cc"
      },
      "source": [
        "df[(df['PhoneService'] != 'No')&\n",
        "   (df['InternetService'] != 'No')]['Churn'].value_counts()"
      ],
      "execution_count": 29,
      "outputs": [
        {
          "output_type": "execute_result",
          "data": {
            "text/plain": [
              "No     3249\n",
              "Yes    1586\n",
              "Name: Churn, dtype: int64"
            ]
          },
          "metadata": {},
          "execution_count": 29
        }
      ]
    },
    {
      "cell_type": "code",
      "metadata": {
        "colab": {
          "base_uri": "https://localhost:8080/"
        },
        "id": "tyGPrC8Vrevd",
        "outputId": "c2bdaa6e-a20b-4a03-bf18-c875e83c4388"
      },
      "source": [
        "round(1586/3249*100, 1)"
      ],
      "execution_count": 30,
      "outputs": [
        {
          "output_type": "execute_result",
          "data": {
            "text/plain": [
              "48.8"
            ]
          },
          "metadata": {},
          "execution_count": 30
        }
      ]
    },
    {
      "cell_type": "code",
      "metadata": {
        "colab": {
          "base_uri": "https://localhost:8080/"
        },
        "id": "cDpbBGLxplBy",
        "outputId": "e6770a92-e821-4182-965a-fd4ceace9344"
      },
      "source": [
        "1526+4835+682"
      ],
      "execution_count": 31,
      "outputs": [
        {
          "output_type": "execute_result",
          "data": {
            "text/plain": [
              "7043"
            ]
          },
          "metadata": {},
          "execution_count": 31
        }
      ]
    },
    {
      "cell_type": "code",
      "metadata": {
        "colab": {
          "base_uri": "https://localhost:8080/"
        },
        "id": "nXWFEIcRsTbj",
        "outputId": "ee9e0cac-eb1d-4743-84d8-c0173a5cdf8c"
      },
      "source": [
        "33.2+8.0+48.8"
      ],
      "execution_count": 32,
      "outputs": [
        {
          "output_type": "execute_result",
          "data": {
            "text/plain": [
              "90.0"
            ]
          },
          "metadata": {},
          "execution_count": 32
        }
      ]
    },
    {
      "cell_type": "markdown",
      "metadata": {
        "id": "YPGhm835uerH"
      },
      "source": [
        "Features: 'DeviceProtection', 'OnlineBackup', 'OnlineSecurity', 'StreamingMovies', 'StreamingTV', 'TechSupport' have 3 unique values, where value \"No internet service\" can be converted to \"No\""
      ]
    },
    {
      "cell_type": "code",
      "metadata": {
        "id": "D-MT2Fa9XLXR"
      },
      "source": [
        "to_binary = ['DeviceProtection', 'OnlineBackup', 'OnlineSecurity', 'StreamingMovies', 'StreamingTV', 'TechSupport']\n",
        "\n",
        "for i in to_binary:\n",
        "  df.loc[df[i].isin(['No internet service']), i] = 'No'"
      ],
      "execution_count": 33,
      "outputs": []
    },
    {
      "cell_type": "code",
      "metadata": {
        "id": "djzX170Ue4_n",
        "colab": {
          "base_uri": "https://localhost:8080/"
        },
        "outputId": "ca21c9f3-d449-447d-b57c-c8ad7562482b"
      },
      "source": [
        "unique_values()"
      ],
      "execution_count": 34,
      "outputs": [
        {
          "output_type": "stream",
          "name": "stdout",
          "text": [
            "Churn ['No' 'Yes']\n",
            "Contract ['Month-to-month' 'One year' 'Two year']\n",
            "Dependents ['No' 'Yes']\n",
            "DeviceProtection ['No' 'Yes']\n",
            "InternetService ['DSL' 'Fiber optic' 'No']\n",
            "MultipleLines ['No phone service' 'No' 'Yes']\n",
            "OnlineBackup ['Yes' 'No']\n",
            "OnlineSecurity ['No' 'Yes']\n",
            "PaperlessBilling ['Yes' 'No']\n",
            "Partner ['Yes' 'No']\n",
            "PaymentMethod ['Electronic check' 'Mailed check' 'Bank transfer (automatic)'\n",
            " 'Credit card (automatic)']\n",
            "PhoneService ['No' 'Yes']\n",
            "StreamingMovies ['No' 'Yes']\n",
            "StreamingTV ['No' 'Yes']\n",
            "TechSupport ['No' 'Yes']\n",
            "gender ['Female' 'Male']\n"
          ]
        }
      ]
    },
    {
      "cell_type": "markdown",
      "metadata": {
        "id": "0sYSbnAQc0yt"
      },
      "source": [
        "Plotting graphs to see the churn distribution for some of the features."
      ]
    },
    {
      "cell_type": "code",
      "metadata": {
        "id": "fauVOVWgMOVl"
      },
      "source": [
        "# converting target column to binary\n",
        "\n",
        "df.loc[df['Churn'] == 'No','Churn'] = 0\n",
        "df.loc[df['Churn'] == 'Yes','Churn'] = 1\n",
        "df['Churn'] = df['Churn'].astype('int64')"
      ],
      "execution_count": 35,
      "outputs": []
    },
    {
      "cell_type": "code",
      "metadata": {
        "id": "XQtf3vKAMRd_",
        "colab": {
          "base_uri": "https://localhost:8080/",
          "height": 810
        },
        "outputId": "7d21162b-0441-4182-b3ae-aed477adf2b2"
      },
      "source": [
        "fig, ax = plt.subplots(nrows=3, ncols=3, figsize=(18,10))\n",
        "\n",
        "sns.barplot(x=df['TechSupport'], y=df['Churn'], ax=ax[0][0])\n",
        "ax[0][0].set_ylim(0,1)\n",
        "ax[0][0].set_title('TechSupport')\n",
        "\n",
        "sns.barplot(x=df['DeviceProtection'], y=df['Churn'], ax=ax[0][1])\n",
        "ax[0][1].set_ylim(0,1)\n",
        "ax[0][1].set_title('DeviceProtection')\n",
        "\n",
        "sns.barplot(x=df['Contract'], y=df['Churn'], ax=ax[0][2])\n",
        "ax[0][2].set_ylim(0,1)\n",
        "ax[0][2].set_title('Contract')\n",
        "\n",
        "sns.barplot(x=df['Dependents'], y=df['Churn'], ax=ax[1][0])\n",
        "ax[1][0].set_ylim(0,1)\n",
        "ax[1][0].set_title('Dependents')\n",
        "\n",
        "sns.barplot(x=df['OnlineSecurity'], y=df['Churn'], ax=ax[1][1])\n",
        "ax[1][1].set_ylim(0,1)\n",
        "ax[1][1].set_title('Online Security')\n",
        "\n",
        "sns.barplot(x=df['InternetService'], y=df['Churn'], ax=ax[1][2])\n",
        "ax[1][2].set_ylim(0,1)\n",
        "ax[1][2].set_title('InternetService')\n",
        "\n",
        "sns.barplot(x=df['PaymentMethod'], y=df['Churn'], ax=ax[2][0])\n",
        "ax[2][0].set_ylim(0,1)\n",
        "ax[2][0].set_title('PaymentMethod')\n",
        "\n",
        "sns.barplot(x=df['PaperlessBilling'], y=df['Churn'], ax=ax[2][1])\n",
        "ax[2][1].set_ylim(0,1)\n",
        "ax[2][1].set_title('PaperlessBilling')\n",
        "\n",
        "sns.barplot(x=df['MultipleLines'], y=df['Churn'], ax=ax[2][2])\n",
        "ax[2][2].set_ylim(0,1)\n",
        "ax[2][2].set_title('MultipleLines')\n",
        "\n",
        "\n",
        "plt.tight_layout()"
      ],
      "execution_count": 36,
      "outputs": [
        {
          "output_type": "display_data",
          "data": {
            "text/plain": [
              "<Figure size 1800x1000 with 9 Axes>"
            ],
            "image/png": "[encoded data removed]"
          },
          "metadata": {}
        }
      ]
    },
    {
      "cell_type": "markdown",
      "metadata": {
        "id": "LqfMljSpzVWh"
      },
      "source": [
        "We shall encode out categorical variables to numerical because it's nessesary for some of the machine learning algorithms that're going to be used:\n",
        "\n",
        "- LabelEncoder for binaries\n",
        "- pd.get_dummies for categorical"
      ]
    },
    {
      "cell_type": "code",
      "metadata": {
        "id": "xtJ31Xbf80qF",
        "colab": {
          "base_uri": "https://localhost:8080/",
          "height": 290
        },
        "outputId": "b3771aa3-defe-4ad3-b187-3ce58bffd2e7"
      },
      "source": [
        "# binary features, except 'Churn'\n",
        "bin_var = [col for col in df.columns if len(df[col].unique()) == 2 and col != 'Churn']\n",
        "\n",
        "# categorical features\n",
        "cat_var = [col for col in df.select_dtypes(['object']).columns.tolist() if col not in bin_var]\n",
        "\n",
        "# LabelEncoder for binaries\n",
        "le = LabelEncoder()\n",
        "for col in bin_var:\n",
        "  df[col] = le.fit_transform(df[col])\n",
        "\n",
        "# get_dummies for categorical\n",
        "df = pd.get_dummies(df, columns=cat_var)\n",
        "\n",
        "df.head()\n"
      ],
      "execution_count": 37,
      "outputs": [
        {
          "output_type": "execute_result",
          "data": {
            "text/plain": [
              "   gender  SeniorCitizen  Partner  Dependents  tenure  PhoneService  \\\n",
              "0       0              0        1           0       1             0   \n",
              "1       1              0        0           0      34             1   \n",
              "2       1              0        0           0       2             1   \n",
              "3       1              0        0           0      45             0   \n",
              "4       0              0        0           0       2             1   \n",
              "\n",
              "   OnlineSecurity  OnlineBackup  DeviceProtection  TechSupport  ...  \\\n",
              "0               0             1                 0            0  ...   \n",
              "1               1             0                 1            0  ...   \n",
              "2               1             1                 0            0  ...   \n",
              "3               1             0                 1            1  ...   \n",
              "4               0             0                 0            0  ...   \n",
              "\n",
              "   InternetService_DSL  InternetService_Fiber optic  InternetService_No  \\\n",
              "0                    1                            0                   0   \n",
              "1                    1                            0                   0   \n",
              "2                    1                            0                   0   \n",
              "3                    1                            0                   0   \n",
              "4                    0                            1                   0   \n",
              "\n",
              "   Contract_Month-to-month  Contract_One year  Contract_Two year  \\\n",
              "0                        1                  0                  0   \n",
              "1                        0                  1                  0   \n",
              "2                        1                  0                  0   \n",
              "3                        0                  1                  0   \n",
              "4                        1                  0                  0   \n",
              "\n",
              "   PaymentMethod_Bank transfer (automatic)  \\\n",
              "0                                        0   \n",
              "1                                        0   \n",
              "2                                        0   \n",
              "3                                        1   \n",
              "4                                        0   \n",
              "\n",
              "   PaymentMethod_Credit card (automatic)  PaymentMethod_Electronic check  \\\n",
              "0                                      0                               1   \n",
              "1                                      0                               0   \n",
              "2                                      0                               0   \n",
              "3                                      0                               0   \n",
              "4                                      0                               1   \n",
              "\n",
              "   PaymentMethod_Mailed check  \n",
              "0                           0  \n",
              "1                           1  \n",
              "2                           1  \n",
              "3                           0  \n",
              "4                           0  \n",
              "\n",
              "[5 rows x 29 columns]"
            ],
            "text/html": [
              "\n",
              "  <div id=\"df-68103aa4-cc50-4b5c-bc51-f95799c1cdec\" class=\"colab-df-container\">\n",
              "    <div>\n",
              "<style scoped>\n",
              "    .dataframe tbody tr th:only-of-type {\n",
              "        vertical-align: middle;\n",
              "    }\n",
              "\n",
              "    .dataframe tbody tr th {\n",
              "        vertical-align: top;\n",
              "    }\n",
              "\n",
              "    .dataframe thead th {\n",
              "        text-align: right;\n",
              "    }\n",
              "</style>\n",
              "<table border=\"1\" class=\"dataframe\">\n",
              "  <thead>\n",
              "    <tr style=\"text-align: right;\">\n",
              "      <th></th>\n",
              "      <th>gender</th>\n",
              "      <th>SeniorCitizen</th>\n",
              "      <th>Partner</th>\n",
              "      <th>Dependents</th>\n",
              "      <th>tenure</th>\n",
              "      <th>PhoneService</th>\n",
              "      <th>OnlineSecurity</th>\n",
              "      <th>OnlineBackup</th>\n",
              "      <th>DeviceProtection</th>\n",
              "      <th>TechSupport</th>\n",
              "      <th>...</th>\n",
              "      <th>InternetService_DSL</th>\n",
              "      <th>InternetService_Fiber optic</th>\n",
              "      <th>InternetService_No</th>\n",
              "      <th>Contract_Month-to-month</th>\n",
              "      <th>Contract_One year</th>\n",
              "      <th>Contract_Two year</th>\n",
              "      <th>PaymentMethod_Bank transfer (automatic)</th>\n",
              "      <th>PaymentMethod_Credit card (automatic)</th>\n",
              "      <th>PaymentMethod_Electronic check</th>\n",
              "      <th>PaymentMethod_Mailed check</th>\n",
              "    </tr>\n",
              "  </thead>\n",
              "  <tbody>\n",
              "    <tr>\n",
              "      <th>0</th>\n",
              "      <td>0</td>\n",
              "      <td>0</td>\n",
              "      <td>1</td>\n",
              "      <td>0</td>\n",
              "      <td>1</td>\n",
              "      <td>0</td>\n",
              "      <td>0</td>\n",
              "      <td>1</td>\n",
              "      <td>0</td>\n",
              "      <td>0</td>\n",
              "      <td>...</td>\n",
              "      <td>1</td>\n",
              "      <td>0</td>\n",
              "      <td>0</td>\n",
              "      <td>1</td>\n",
              "      <td>0</td>\n",
              "      <td>0</td>\n",
              "      <td>0</td>\n",
              "      <td>0</td>\n",
              "      <td>1</td>\n",
              "      <td>0</td>\n",
              "    </tr>\n",
              "    <tr>\n",
              "      <th>1</th>\n",
              "      <td>1</td>\n",
              "      <td>0</td>\n",
              "      <td>0</td>\n",
              "      <td>0</td>\n",
              "      <td>34</td>\n",
              "      <td>1</td>\n",
              "      <td>1</td>\n",
              "      <td>0</td>\n",
              "      <td>1</td>\n",
              "      <td>0</td>\n",
              "      <td>...</td>\n",
              "      <td>1</td>\n",
              "      <td>0</td>\n",
              "      <td>0</td>\n",
              "      <td>0</td>\n",
              "      <td>1</td>\n",
              "      <td>0</td>\n",
              "      <td>0</td>\n",
              "      <td>0</td>\n",
              "      <td>0</td>\n",
              "      <td>1</td>\n",
              "    </tr>\n",
              "    <tr>\n",
              "      <th>2</th>\n",
              "      <td>1</td>\n",
              "      <td>0</td>\n",
              "      <td>0</td>\n",
              "      <td>0</td>\n",
              "      <td>2</td>\n",
              "      <td>1</td>\n",
              "      <td>1</td>\n",
              "      <td>1</td>\n",
              "      <td>0</td>\n",
              "      <td>0</td>\n",
              "      <td>...</td>\n",
              "      <td>1</td>\n",
              "      <td>0</td>\n",
              "      <td>0</td>\n",
              "      <td>1</td>\n",
              "      <td>0</td>\n",
              "      <td>0</td>\n",
              "      <td>0</td>\n",
              "      <td>0</td>\n",
              "      <td>0</td>\n",
              "      <td>1</td>\n",
              "    </tr>\n",
              "    <tr>\n",
              "      <th>3</th>\n",
              "      <td>1</td>\n",
              "      <td>0</td>\n",
              "      <td>0</td>\n",
              "      <td>0</td>\n",
              "      <td>45</td>\n",
              "      <td>0</td>\n",
              "      <td>1</td>\n",
              "      <td>0</td>\n",
              "      <td>1</td>\n",
              "      <td>1</td>\n",
              "      <td>...</td>\n",
              "      <td>1</td>\n",
              "      <td>0</td>\n",
              "      <td>0</td>\n",
              "      <td>0</td>\n",
              "      <td>1</td>\n",
              "      <td>0</td>\n",
              "      <td>1</td>\n",
              "      <td>0</td>\n",
              "      <td>0</td>\n",
              "      <td>0</td>\n",
              "    </tr>\n",
              "    <tr>\n",
              "      <th>4</th>\n",
              "      <td>0</td>\n",
              "      <td>0</td>\n",
              "      <td>0</td>\n",
              "      <td>0</td>\n",
              "      <td>2</td>\n",
              "      <td>1</td>\n",
              "      <td>0</td>\n",
              "      <td>0</td>\n",
              "      <td>0</td>\n",
              "      <td>0</td>\n",
              "      <td>...</td>\n",
              "      <td>0</td>\n",
              "      <td>1</td>\n",
              "      <td>0</td>\n",
              "      <td>1</td>\n",
              "      <td>0</td>\n",
              "      <td>0</td>\n",
              "      <td>0</td>\n",
              "      <td>0</td>\n",
              "      <td>1</td>\n",
              "      <td>0</td>\n",
              "    </tr>\n",
              "  </tbody>\n",
              "</table>\n",
              "<p>5 rows × 29 columns</p>\n",
              "</div>\n",
              "    <div class=\"colab-df-buttons\">\n",
              "\n",
              "  <div class=\"colab-df-container\">\n",
              "    <button class=\"colab-df-convert\" onclick=\"convertToInteractive('df-68103aa4-cc50-4b5c-bc51-f95799c1cdec')\"\n",
              "            title=\"Convert this dataframe to an interactive table.\"\n",
              "            style=\"display:none;\">\n",
              "\n",
              "  <svg xmlns=\"http://www.w3.org/2000/svg\" height=\"24px\" viewBox=\"0 -960 960 960\">\n",
              "    <path d=\"M120-120v-720h720v720H120Zm60-500h600v-160H180v160Zm220 220h160v-160H400v160Zm0 220h160v-160H400v160ZM180-400h160v-160H180v160Zm440 0h160v-160H620v160ZM180-180h160v-160H180v160Zm440 0h160v-160H620v160Z\"/>\n",
              "  </svg>\n",
              "    </button>\n",
              "\n",
              "  <style>\n",
              "    .colab-df-container {\n",
              "      display:flex;\n",
              "      gap: 12px;\n",
              "    }\n",
              "\n",
              "    .colab-df-convert {\n",
              "      background-color: #E8F0FE;\n",
              "      border: none;\n",
              "      border-radius: 50%;\n",
              "      cursor: pointer;\n",
              "      display: none;\n",
              "      fill: #1967D2;\n",
              "      height: 32px;\n",
              "      padding: 0 0 0 0;\n",
              "      width: 32px;\n",
              "    }\n",
              "\n",
              "    .colab-df-convert:hover {\n",
              "      background-color: #E2EBFA;\n",
              "      box-shadow: 0px 1px 2px rgba(60, 64, 67, 0.3), 0px 1px 3px 1px rgba(60, 64, 67, 0.15);\n",
              "      fill: #174EA6;\n",
              "    }\n",
              "\n",
              "    .colab-df-buttons div {\n",
              "      margin-bottom: 4px;\n",
              "    }\n",
              "\n",
              "    [theme=dark] .colab-df-convert {\n",
              "      background-color: #3B4455;\n",
              "      fill: #D2E3FC;\n",
              "    }\n",
              "\n",
              "    [theme=dark] .colab-df-convert:hover {\n",
              "      background-color: #434B5C;\n",
              "      box-shadow: 0px 1px 3px 1px rgba(0, 0, 0, 0.15);\n",
              "      filter: drop-shadow(0px 1px 2px rgba(0, 0, 0, 0.3));\n",
              "      fill: #FFFFFF;\n",
              "    }\n",
              "  </style>\n",
              "\n",
              "    <script>\n",
              "      const buttonEl =\n",
              "        document.querySelector('#df-68103aa4-cc50-4b5c-bc51-f95799c1cdec button.colab-df-convert');\n",
              "      buttonEl.style.display =\n",
              "        google.colab.kernel.accessAllowed ? 'block' : 'none';\n",
              "\n",
              "      async function convertToInteractive(key) {\n",
              "        const element = document.querySelector('#df-68103aa4-cc50-4b5c-bc51-f95799c1cdec');\n",
              "        const dataTable =\n",
              "          await google.colab.kernel.invokeFunction('convertToInteractive',\n",
              "                                                    [key], {});\n",
              "        if (!dataTable) return;\n",
              "\n",
              "        const docLinkHtml = 'Like what you see? Visit the ' +\n",
              "          '<a target=\"_blank\" href=https://colab.research.google.com/notebooks/data_table.ipynb>data table notebook</a>'\n",
              "          + ' to learn more about interactive tables.';\n",
              "        element.innerHTML = '';\n",
              "        dataTable['output_type'] = 'display_data';\n",
              "        await google.colab.output.renderOutput(dataTable, element);\n",
              "        const docLink = document.createElement('div');\n",
              "        docLink.innerHTML = docLinkHtml;\n",
              "        element.appendChild(docLink);\n",
              "      }\n",
              "    </script>\n",
              "  </div>\n",
              "\n",
              "\n",
              "<div id=\"df-2c3205d3-e013-483d-ae6e-e20b13f41cea\">\n",
              "  <button class=\"colab-df-quickchart\" onclick=\"quickchart('df-2c3205d3-e013-483d-ae6e-e20b13f41cea')\"\n",
              "            title=\"Suggest charts\"\n",
              "            style=\"display:none;\">\n",
              "\n",
              "<svg xmlns=\"http://www.w3.org/2000/svg\" height=\"24px\"viewBox=\"0 0 24 24\"\n",
              "     width=\"24px\">\n",
              "    <g>\n",
              "        <path d=\"M19 3H5c-1.1 0-2 .9-2 2v14c0 1.1.9 2 2 2h14c1.1 0 2-.9 2-2V5c0-1.1-.9-2-2-2zM9 17H7v-7h2v7zm4 0h-2V7h2v10zm4 0h-2v-4h2v4z\"/>\n",
              "    </g>\n",
              "</svg>\n",
              "  </button>\n",
              "\n",
              "<style>\n",
              "  .colab-df-quickchart {\n",
              "      --bg-color: #E8F0FE;\n",
              "      --fill-color: #1967D2;\n",
              "      --hover-bg-color: #E2EBFA;\n",
              "      --hover-fill-color: #174EA6;\n",
              "      --disabled-fill-color: #AAA;\n",
              "      --disabled-bg-color: #DDD;\n",
              "  }\n",
              "\n",
              "  [theme=dark] .colab-df-quickchart {\n",
              "      --bg-color: #3B4455;\n",
              "      --fill-color: #D2E3FC;\n",
              "      --hover-bg-color: #434B5C;\n",
              "      --hover-fill-color: #FFFFFF;\n",
              "      --disabled-bg-color: #3B4455;\n",
              "      --disabled-fill-color: #666;\n",
              "  }\n",
              "\n",
              "  .colab-df-quickchart {\n",
              "    background-color: var(--bg-color);\n",
              "    border: none;\n",
              "    border-radius: 50%;\n",
              "    cursor: pointer;\n",
              "    display: none;\n",
              "    fill: var(--fill-color);\n",
              "    height: 32px;\n",
              "    padding: 0;\n",
              "    width: 32px;\n",
              "  }\n",
              "\n",
              "  .colab-df-quickchart:hover {\n",
              "    background-color: var(--hover-bg-color);\n",
              "    box-shadow: 0 1px 2px rgba(60, 64, 67, 0.3), 0 1px 3px 1px rgba(60, 64, 67, 0.15);\n",
              "    fill: var(--button-hover-fill-color);\n",
              "  }\n",
              "\n",
              "  .colab-df-quickchart-complete:disabled,\n",
              "  .colab-df-quickchart-complete:disabled:hover {\n",
              "    background-color: var(--disabled-bg-color);\n",
              "    fill: var(--disabled-fill-color);\n",
              "    box-shadow: none;\n",
              "  }\n",
              "\n",
              "  .colab-df-spinner {\n",
              "    border: 2px solid var(--fill-color);\n",
              "    border-color: transparent;\n",
              "    border-bottom-color: var(--fill-color);\n",
              "    animation:\n",
              "      spin 1s steps(1) infinite;\n",
              "  }\n",
              "\n",
              "  @keyframes spin {\n",
              "    0% {\n",
              "      border-color: transparent;\n",
              "      border-bottom-color: var(--fill-color);\n",
              "      border-left-color: var(--fill-color);\n",
              "    }\n",
              "    20% {\n",
              "      border-color: transparent;\n",
              "      border-left-color: var(--fill-color);\n",
              "      border-top-color: var(--fill-color);\n",
              "    }\n",
              "    30% {\n",
              "      border-color: transparent;\n",
              "      border-left-color: var(--fill-color);\n",
              "      border-top-color: var(--fill-color);\n",
              "      border-right-color: var(--fill-color);\n",
              "    }\n",
              "    40% {\n",
              "      border-color: transparent;\n",
              "      border-right-color: var(--fill-color);\n",
              "      border-top-color: var(--fill-color);\n",
              "    }\n",
              "    60% {\n",
              "      border-color: transparent;\n",
              "      border-right-color: var(--fill-color);\n",
              "    }\n",
              "    80% {\n",
              "      border-color: transparent;\n",
              "      border-right-color: var(--fill-color);\n",
              "      border-bottom-color: var(--fill-color);\n",
              "    }\n",
              "    90% {\n",
              "      border-color: transparent;\n",
              "      border-bottom-color: var(--fill-color);\n",
              "    }\n",
              "  }\n",
              "</style>\n",
              "\n",
              "  <script>\n",
              "    async function quickchart(key) {\n",
              "      const quickchartButtonEl =\n",
              "        document.querySelector('#' + key + ' button');\n",
              "      quickchartButtonEl.disabled = true;  // To prevent multiple clicks.\n",
              "      quickchartButtonEl.classList.add('colab-df-spinner');\n",
              "      try {\n",
              "        const charts = await google.colab.kernel.invokeFunction(\n",
              "            'suggestCharts', [key], {});\n",
              "      } catch (error) {\n",
              "        console.error('Error during call to suggestCharts:', error);\n",
              "      }\n",
              "      quickchartButtonEl.classList.remove('colab-df-spinner');\n",
              "      quickchartButtonEl.classList.add('colab-df-quickchart-complete');\n",
              "    }\n",
              "    (() => {\n",
              "      let quickchartButtonEl =\n",
              "        document.querySelector('#df-2c3205d3-e013-483d-ae6e-e20b13f41cea button');\n",
              "      quickchartButtonEl.style.display =\n",
              "        google.colab.kernel.accessAllowed ? 'block' : 'none';\n",
              "    })();\n",
              "  </script>\n",
              "</div>\n",
              "    </div>\n",
              "  </div>\n"
            ]
          },
          "metadata": {},
          "execution_count": 37
        }
      ]
    },
    {
      "cell_type": "code",
      "metadata": {
        "colab": {
          "base_uri": "https://localhost:8080/"
        },
        "id": "dJWmmLjRJBIM",
        "outputId": "eb031dbd-f97c-4180-d1ee-ad3fde78e368"
      },
      "source": [
        "df.shape"
      ],
      "execution_count": 38,
      "outputs": [
        {
          "output_type": "execute_result",
          "data": {
            "text/plain": [
              "(7043, 29)"
            ]
          },
          "metadata": {},
          "execution_count": 38
        }
      ]
    },
    {
      "cell_type": "markdown",
      "metadata": {
        "id": "xkZ6xWK6ECNI"
      },
      "source": [
        "# Machine learning models"
      ]
    },
    {
      "cell_type": "markdown",
      "metadata": {
        "id": "phdm8I4PJX-Y"
      },
      "source": [
        "Splitting dataset to train and test"
      ]
    },
    {
      "cell_type": "code",
      "metadata": {
        "id": "nnRXL3knm1dO"
      },
      "source": [
        "# features\n",
        "X = df.drop('Churn', axis=1)\n",
        "# target\n",
        "y = df['Churn']\n",
        "\n",
        "X_train, X_test, y_train, y_test = train_test_split(X, y)"
      ],
      "execution_count": 39,
      "outputs": []
    },
    {
      "cell_type": "markdown",
      "metadata": {
        "id": "GaEOiZStnNjB"
      },
      "source": [
        "So, using an imbalanced dataset can bring us some trouble as soon as classificator is likely to wrongly classify minority class' objects. That's why we'll use a strategy to struggle with it. It's called undersampling. The key concept of it is to equalize the major class objects and the minor ones by delition. It's not the best strategy to struggle an imbalanced dataset but the simplest one."
      ]
    },
    {
      "cell_type": "markdown",
      "metadata": {
        "id": "BH3cyEaihVGl"
      },
      "source": [
        "## Meitrcs\n",
        "\n",
        "For evaluatin model's perfomance metrics \"Precision\", \"Recall\" and \"Accuracy\" are used. \"Precision\" will give us a percentage of positively classified objects to truly positive objects, \"Recall\" will show the proportion of real positives that were correctly identified.\n",
        "\n",
        "According to a task (to identify a churned client), more reasonable should be to choose a Recall metric i.e lower the number of False Negatives.\n"
      ]
    },
    {
      "cell_type": "code",
      "metadata": {
        "id": "tAj8GozpezdN"
      },
      "source": [
        "# Undersampling\n",
        "rus = RandomUnderSampler()\n"
      ],
      "execution_count": 41,
      "outputs": []
    },
    {
      "cell_type": "code",
      "metadata": {
        "id": "srAFRGtokAxk"
      },
      "source": [
        "# Feature normalization for nn\n",
        "from sklearn.preprocessing import  MinMaxScaler\n",
        "\n",
        "mx = MinMaxScaler().fit(X_train)\n",
        "\n",
        "X_train_norm = mx.transform(X_train)\n",
        "X_test_norm = mx.transform(X_test)\n",
        "\n",
        "X_train_rus, y_train_rus = rus.fit_resample(X_train_norm, y_train)"
      ],
      "execution_count": 42,
      "outputs": []
    },
    {
      "cell_type": "markdown",
      "source": [
        "## Neural Network"
      ],
      "metadata": {
        "id": "sugby6AP_4Gm"
      }
    },
    {
      "cell_type": "markdown",
      "metadata": {
        "id": "evcrBWtLk1Wj"
      },
      "source": [
        "Creating neural network. Tuning hyperparameters:\n",
        "\n",
        "*   number of hidden layers\n",
        "*   number of neurons in layers\n",
        "*   activation functions\n",
        "*   dropout rate\n",
        "*   optimizer\n",
        "\n",
        "\n"
      ]
    },
    {
      "cell_type": "code",
      "metadata": {
        "id": "CNp2yRZmxwsi"
      },
      "source": [
        "def model(neurons0=32,\n",
        "          neurons1=64,\n",
        "          optimizer='adam',\n",
        "          drop_rate0=0.3,\n",
        "#           activation0=activation,\n",
        "#           activation1=activation,\n",
        "          # num_layers=num_layers\n",
        "         ):\n",
        "  model = keras.Sequential()\n",
        "  model.add(layers.Dense(neurons0, input_shape=(X_train.shape[1],), activation='softmax'))\n",
        "  model.add(layers.Dropout(drop_rate0))\n",
        "  # for i in layers_num:\n",
        "  model.add(layers.Dense(neurons1, activation='selu'))\n",
        "  # output layer - sigmoid\n",
        "  model.add(layers.Dense(1, activation='sigmoid'))\n",
        "\n",
        "  model.compile(\n",
        "      optimizer=optimizer,\n",
        "      loss='binary_crossentropy',\n",
        "      # metrics recall\n",
        "      metrics=[tf.keras.metrics.Recall()]\n",
        "  )\n",
        "  return model"
      ],
      "execution_count": 43,
      "outputs": []
    },
    {
      "cell_type": "markdown",
      "metadata": {
        "id": "cHpw1eKDnW8s"
      },
      "source": [
        "To use Scikit-Learn API with tensorflow model we have to use Wraper method KerasClassifier"
      ]
    },
    {
      "cell_type": "code",
      "metadata": {
        "id": "ntpyp60vdHG3"
      },
      "source": [
        "nn = KerasClassifier(build_fn=model, batch_size=100, epochs=100)"
      ],
      "execution_count": 44,
      "outputs": []
    },
    {
      "cell_type": "code",
      "metadata": {
        "id": "DhSTwIj-dHJ3"
      },
      "source": [
        "layers_num = [1, 2, 3, 4]                       # number of hidden layers\n",
        "neurons = [16, 32, 64, 128]\n",
        "activation = ['softmax', 'tanh', 'selu', 'elu']\n",
        "optimizer = ['adadelta', 'adam']\n",
        "drop_rate = [0, 0.1, 0.2, 0.3, 0.4]\n",
        "batch_size = [5, 8, 10, 20]\n",
        "epochs = [25, 50, 75, 100]\n",
        "\n",
        "param_grid = dict(activation0=activation, activation1=activation)"
      ],
      "execution_count": 45,
      "outputs": []
    },
    {
      "cell_type": "code",
      "metadata": {
        "id": "XnaCkO6waikx"
      },
      "source": [
        "# GridSearchCV\n",
        "grid = GridSearchCV(estimator=nn, param_grid=param_grid, n_jobs=-1, cv=3, scoring='recall')\n",
        "grid_result = grid.fit(X_train_rus, y_train_rus)\n",
        "\n",
        "\n",
        "# tuning results\n",
        "print(\"Best: %f using %s\" % (grid_result.best_score_, grid_result.best_params_))\n",
        "means = grid_result.cv_results_['mean_test_score']\n",
        "stds = grid_result.cv_results_['std_test_score']\n",
        "params = grid_result.cv_results_['params']\n",
        "for mean, stdev, param in zip(means, stds, params):\n",
        "    print(\"%f (%f) with: %r\" % (mean, stdev, param))"
      ],
      "execution_count": 92,
      "outputs": []
    },
    {
      "cell_type": "code",
      "metadata": {
        "id": "p_9htF2T0mjE",
        "colab": {
          "base_uri": "https://localhost:8080/"
        },
        "outputId": "1fb20360-3298-4df7-8e78-5e268faded60"
      },
      "source": [
        "nn = model()\n",
        "\n",
        "history = nn.fit(X_train_rus, y_train_rus,\n",
        "                 validation_data=(X_test_norm, y_test),\n",
        "                 batch_size=100, epochs=200)"
      ],
      "execution_count": 47,
      "outputs": [
        {
          "output_type": "stream",
          "name": "stdout",
          "text": [
            "Epoch 1/200\n",
            "28/28 [==============================] - 2s 15ms/step - loss: 0.6834 - recall: 0.3958 - val_loss: 0.6912 - val_recall: 0.9455\n",
            "Epoch 2/200\n",
            "28/28 [==============================] - 0s 6ms/step - loss: 0.6592 - recall: 0.7033 - val_loss: 0.6444 - val_recall: 0.7841\n",
            "Epoch 3/200\n",
            "28/28 [==============================] - 0s 6ms/step - loss: 0.6171 - recall: 0.7888 - val_loss: 0.5723 - val_recall: 0.7421\n",
            "Epoch 4/200\n",
            "28/28 [==============================] - 0s 6ms/step - loss: 0.5736 - recall: 0.7284 - val_loss: 0.5741 - val_recall: 0.8218\n",
            "Epoch 5/200\n",
            "28/28 [==============================] - 0s 5ms/step - loss: 0.5425 - recall: 0.7802 - val_loss: 0.5174 - val_recall: 0.7715\n",
            "Epoch 6/200\n",
            "28/28 [==============================] - 0s 5ms/step - loss: 0.5282 - recall: 0.7845 - val_loss: 0.5090 - val_recall: 0.7652\n",
            "Epoch 7/200\n",
            "28/28 [==============================] - 0s 6ms/step - loss: 0.5228 - recall: 0.7737 - val_loss: 0.5099 - val_recall: 0.7799\n",
            "Epoch 8/200\n",
            "28/28 [==============================] - 0s 6ms/step - loss: 0.5268 - recall: 0.7780 - val_loss: 0.5039 - val_recall: 0.7778\n",
            "Epoch 9/200\n",
            "28/28 [==============================] - 0s 5ms/step - loss: 0.5185 - recall: 0.7809 - val_loss: 0.5276 - val_recall: 0.8197\n",
            "Epoch 10/200\n",
            "28/28 [==============================] - 0s 5ms/step - loss: 0.5147 - recall: 0.7924 - val_loss: 0.4852 - val_recall: 0.7547\n",
            "Epoch 11/200\n",
            "28/28 [==============================] - 0s 6ms/step - loss: 0.5166 - recall: 0.7809 - val_loss: 0.5211 - val_recall: 0.8134\n",
            "Epoch 12/200\n",
            "28/28 [==============================] - 0s 6ms/step - loss: 0.5182 - recall: 0.7759 - val_loss: 0.5113 - val_recall: 0.7987\n",
            "Epoch 13/200\n",
            "28/28 [==============================] - 0s 6ms/step - loss: 0.5118 - recall: 0.8060 - val_loss: 0.5041 - val_recall: 0.7841\n",
            "Epoch 14/200\n",
            "28/28 [==============================] - 0s 6ms/step - loss: 0.5015 - recall: 0.7888 - val_loss: 0.5081 - val_recall: 0.7862\n",
            "Epoch 15/200\n",
            "28/28 [==============================] - 0s 6ms/step - loss: 0.5104 - recall: 0.7945 - val_loss: 0.5053 - val_recall: 0.7862\n",
            "Epoch 16/200\n",
            "28/28 [==============================] - 0s 6ms/step - loss: 0.5115 - recall: 0.8046 - val_loss: 0.4833 - val_recall: 0.7631\n",
            "Epoch 17/200\n",
            "28/28 [==============================] - 0s 5ms/step - loss: 0.5021 - recall: 0.8003 - val_loss: 0.5074 - val_recall: 0.7925\n",
            "Epoch 18/200\n",
            "28/28 [==============================] - 0s 6ms/step - loss: 0.5009 - recall: 0.7909 - val_loss: 0.5231 - val_recall: 0.8113\n",
            "Epoch 19/200\n",
            "28/28 [==============================] - 0s 6ms/step - loss: 0.5093 - recall: 0.7953 - val_loss: 0.5192 - val_recall: 0.8050\n",
            "Epoch 20/200\n",
            "28/28 [==============================] - 0s 4ms/step - loss: 0.5016 - recall: 0.7996 - val_loss: 0.5046 - val_recall: 0.7862\n",
            "Epoch 21/200\n",
            "28/28 [==============================] - 0s 6ms/step - loss: 0.5038 - recall: 0.8053 - val_loss: 0.5179 - val_recall: 0.8029\n",
            "Epoch 22/200\n",
            "28/28 [==============================] - 0s 4ms/step - loss: 0.4957 - recall: 0.8218 - val_loss: 0.4937 - val_recall: 0.7778\n",
            "Epoch 23/200\n",
            "28/28 [==============================] - 0s 5ms/step - loss: 0.5039 - recall: 0.7945 - val_loss: 0.5125 - val_recall: 0.8029\n",
            "Epoch 24/200\n",
            "28/28 [==============================] - 0s 6ms/step - loss: 0.5026 - recall: 0.8118 - val_loss: 0.4913 - val_recall: 0.7757\n",
            "Epoch 25/200\n",
            "28/28 [==============================] - 0s 7ms/step - loss: 0.5032 - recall: 0.7723 - val_loss: 0.5140 - val_recall: 0.8008\n",
            "Epoch 26/200\n",
            "28/28 [==============================] - 0s 7ms/step - loss: 0.5037 - recall: 0.7996 - val_loss: 0.5162 - val_recall: 0.8029\n",
            "Epoch 27/200\n",
            "28/28 [==============================] - 0s 6ms/step - loss: 0.5030 - recall: 0.7895 - val_loss: 0.5152 - val_recall: 0.8008\n",
            "Epoch 28/200\n",
            "28/28 [==============================] - 0s 7ms/step - loss: 0.5004 - recall: 0.8017 - val_loss: 0.5006 - val_recall: 0.7820\n",
            "Epoch 29/200\n",
            "28/28 [==============================] - 0s 6ms/step - loss: 0.4966 - recall: 0.8082 - val_loss: 0.4889 - val_recall: 0.7736\n",
            "Epoch 30/200\n",
            "28/28 [==============================] - 0s 7ms/step - loss: 0.4976 - recall: 0.7902 - val_loss: 0.5063 - val_recall: 0.7966\n",
            "Epoch 31/200\n",
            "28/28 [==============================] - 0s 8ms/step - loss: 0.4980 - recall: 0.7888 - val_loss: 0.4937 - val_recall: 0.7757\n",
            "Epoch 32/200\n",
            "28/28 [==============================] - 0s 8ms/step - loss: 0.4942 - recall: 0.8075 - val_loss: 0.5027 - val_recall: 0.7966\n",
            "Epoch 33/200\n",
            "28/28 [==============================] - 0s 6ms/step - loss: 0.4951 - recall: 0.8103 - val_loss: 0.4848 - val_recall: 0.7631\n",
            "Epoch 34/200\n",
            "28/28 [==============================] - 0s 6ms/step - loss: 0.4935 - recall: 0.7845 - val_loss: 0.5145 - val_recall: 0.8029\n",
            "Epoch 35/200\n",
            "28/28 [==============================] - 0s 7ms/step - loss: 0.4918 - recall: 0.8053 - val_loss: 0.4919 - val_recall: 0.7799\n",
            "Epoch 36/200\n",
            "28/28 [==============================] - 0s 6ms/step - loss: 0.4951 - recall: 0.7888 - val_loss: 0.5204 - val_recall: 0.8197\n",
            "Epoch 37/200\n",
            "28/28 [==============================] - 0s 7ms/step - loss: 0.4940 - recall: 0.8032 - val_loss: 0.4987 - val_recall: 0.7862\n",
            "Epoch 38/200\n",
            "28/28 [==============================] - 0s 8ms/step - loss: 0.4922 - recall: 0.8068 - val_loss: 0.4971 - val_recall: 0.7862\n",
            "Epoch 39/200\n",
            "28/28 [==============================] - 0s 6ms/step - loss: 0.4960 - recall: 0.7981 - val_loss: 0.4943 - val_recall: 0.7862\n",
            "Epoch 40/200\n",
            "28/28 [==============================] - 0s 4ms/step - loss: 0.4905 - recall: 0.7996 - val_loss: 0.4925 - val_recall: 0.7799\n",
            "Epoch 41/200\n",
            "28/28 [==============================] - 0s 5ms/step - loss: 0.4959 - recall: 0.7895 - val_loss: 0.4888 - val_recall: 0.7799\n",
            "Epoch 42/200\n",
            "28/28 [==============================] - 0s 4ms/step - loss: 0.4885 - recall: 0.7989 - val_loss: 0.4946 - val_recall: 0.7841\n",
            "Epoch 43/200\n",
            "28/28 [==============================] - 0s 6ms/step - loss: 0.4931 - recall: 0.7830 - val_loss: 0.5116 - val_recall: 0.8071\n",
            "Epoch 44/200\n",
            "28/28 [==============================] - 0s 4ms/step - loss: 0.4930 - recall: 0.8053 - val_loss: 0.4921 - val_recall: 0.7862\n",
            "Epoch 45/200\n",
            "28/28 [==============================] - 0s 5ms/step - loss: 0.4901 - recall: 0.8182 - val_loss: 0.4809 - val_recall: 0.7610\n",
            "Epoch 46/200\n",
            "28/28 [==============================] - 0s 5ms/step - loss: 0.4905 - recall: 0.7823 - val_loss: 0.4959 - val_recall: 0.7883\n",
            "Epoch 47/200\n",
            "28/28 [==============================] - 0s 6ms/step - loss: 0.4932 - recall: 0.7816 - val_loss: 0.5184 - val_recall: 0.8260\n",
            "Epoch 48/200\n",
            "28/28 [==============================] - 0s 6ms/step - loss: 0.4881 - recall: 0.8190 - val_loss: 0.4855 - val_recall: 0.7778\n",
            "Epoch 49/200\n",
            "28/28 [==============================] - 0s 6ms/step - loss: 0.4919 - recall: 0.7931 - val_loss: 0.4878 - val_recall: 0.7820\n",
            "Epoch 50/200\n",
            "28/28 [==============================] - 0s 6ms/step - loss: 0.4879 - recall: 0.7974 - val_loss: 0.4982 - val_recall: 0.7883\n",
            "Epoch 51/200\n",
            "28/28 [==============================] - 0s 4ms/step - loss: 0.4928 - recall: 0.7924 - val_loss: 0.4828 - val_recall: 0.7673\n",
            "Epoch 52/200\n",
            "28/28 [==============================] - 0s 6ms/step - loss: 0.4931 - recall: 0.7895 - val_loss: 0.4890 - val_recall: 0.7799\n",
            "Epoch 53/200\n",
            "28/28 [==============================] - 0s 4ms/step - loss: 0.4847 - recall: 0.8053 - val_loss: 0.4860 - val_recall: 0.7694\n",
            "Epoch 54/200\n",
            "28/28 [==============================] - 0s 6ms/step - loss: 0.4776 - recall: 0.8089 - val_loss: 0.5096 - val_recall: 0.8071\n",
            "Epoch 55/200\n",
            "28/28 [==============================] - 0s 5ms/step - loss: 0.4874 - recall: 0.8312 - val_loss: 0.4793 - val_recall: 0.7610\n",
            "Epoch 56/200\n",
            "28/28 [==============================] - 0s 6ms/step - loss: 0.4906 - recall: 0.7924 - val_loss: 0.5019 - val_recall: 0.7966\n",
            "Epoch 57/200\n",
            "28/28 [==============================] - 0s 6ms/step - loss: 0.4853 - recall: 0.8182 - val_loss: 0.4888 - val_recall: 0.7736\n",
            "Epoch 58/200\n",
            "28/28 [==============================] - 0s 6ms/step - loss: 0.4884 - recall: 0.8010 - val_loss: 0.5066 - val_recall: 0.8050\n",
            "Epoch 59/200\n",
            "28/28 [==============================] - 0s 6ms/step - loss: 0.4850 - recall: 0.7945 - val_loss: 0.4966 - val_recall: 0.7945\n",
            "Epoch 60/200\n",
            "28/28 [==============================] - 0s 6ms/step - loss: 0.4862 - recall: 0.8053 - val_loss: 0.4918 - val_recall: 0.7799\n",
            "Epoch 61/200\n",
            "28/28 [==============================] - 0s 6ms/step - loss: 0.4822 - recall: 0.8017 - val_loss: 0.5037 - val_recall: 0.7945\n",
            "Epoch 62/200\n",
            "28/28 [==============================] - 0s 6ms/step - loss: 0.4805 - recall: 0.7967 - val_loss: 0.5116 - val_recall: 0.8092\n",
            "Epoch 63/200\n",
            "28/28 [==============================] - 0s 5ms/step - loss: 0.4857 - recall: 0.8089 - val_loss: 0.4960 - val_recall: 0.7883\n",
            "Epoch 64/200\n",
            "28/28 [==============================] - 0s 5ms/step - loss: 0.4873 - recall: 0.7981 - val_loss: 0.4932 - val_recall: 0.7862\n",
            "Epoch 65/200\n",
            "28/28 [==============================] - 0s 6ms/step - loss: 0.4862 - recall: 0.7996 - val_loss: 0.4879 - val_recall: 0.7841\n",
            "Epoch 66/200\n",
            "28/28 [==============================] - 0s 5ms/step - loss: 0.4853 - recall: 0.7981 - val_loss: 0.5037 - val_recall: 0.8008\n",
            "Epoch 67/200\n",
            "28/28 [==============================] - 0s 6ms/step - loss: 0.4889 - recall: 0.8089 - val_loss: 0.4772 - val_recall: 0.7610\n",
            "Epoch 68/200\n",
            "28/28 [==============================] - 0s 6ms/step - loss: 0.4840 - recall: 0.7902 - val_loss: 0.5260 - val_recall: 0.8218\n",
            "Epoch 69/200\n",
            "28/28 [==============================] - 0s 6ms/step - loss: 0.4867 - recall: 0.7974 - val_loss: 0.5021 - val_recall: 0.7987\n",
            "Epoch 70/200\n",
            "28/28 [==============================] - 0s 5ms/step - loss: 0.4848 - recall: 0.8132 - val_loss: 0.4978 - val_recall: 0.7925\n",
            "Epoch 71/200\n",
            "28/28 [==============================] - 0s 6ms/step - loss: 0.4884 - recall: 0.8024 - val_loss: 0.4994 - val_recall: 0.7925\n",
            "Epoch 72/200\n",
            "28/28 [==============================] - 0s 6ms/step - loss: 0.4851 - recall: 0.8003 - val_loss: 0.4878 - val_recall: 0.7757\n",
            "Epoch 73/200\n",
            "28/28 [==============================] - 0s 5ms/step - loss: 0.4856 - recall: 0.7931 - val_loss: 0.5292 - val_recall: 0.8302\n",
            "Epoch 74/200\n",
            "28/28 [==============================] - 0s 6ms/step - loss: 0.4836 - recall: 0.8017 - val_loss: 0.5151 - val_recall: 0.8071\n",
            "Epoch 75/200\n",
            "28/28 [==============================] - 0s 5ms/step - loss: 0.4874 - recall: 0.7874 - val_loss: 0.4971 - val_recall: 0.7904\n",
            "Epoch 76/200\n",
            "28/28 [==============================] - 0s 6ms/step - loss: 0.4822 - recall: 0.8082 - val_loss: 0.4954 - val_recall: 0.7862\n",
            "Epoch 77/200\n",
            "28/28 [==============================] - 0s 4ms/step - loss: 0.4790 - recall: 0.7917 - val_loss: 0.4908 - val_recall: 0.7778\n",
            "Epoch 78/200\n",
            "28/28 [==============================] - 0s 6ms/step - loss: 0.4855 - recall: 0.8197 - val_loss: 0.4897 - val_recall: 0.7820\n",
            "Epoch 79/200\n",
            "28/28 [==============================] - 0s 6ms/step - loss: 0.4821 - recall: 0.7802 - val_loss: 0.5294 - val_recall: 0.8281\n",
            "Epoch 80/200\n",
            "28/28 [==============================] - 0s 6ms/step - loss: 0.4836 - recall: 0.8075 - val_loss: 0.4813 - val_recall: 0.7673\n",
            "Epoch 81/200\n",
            "28/28 [==============================] - 0s 6ms/step - loss: 0.4804 - recall: 0.7902 - val_loss: 0.5002 - val_recall: 0.7966\n",
            "Epoch 82/200\n",
            "28/28 [==============================] - 0s 6ms/step - loss: 0.4751 - recall: 0.8082 - val_loss: 0.4977 - val_recall: 0.7945\n",
            "Epoch 83/200\n",
            "28/28 [==============================] - 0s 6ms/step - loss: 0.4804 - recall: 0.7888 - val_loss: 0.5033 - val_recall: 0.7987\n",
            "Epoch 84/200\n",
            "28/28 [==============================] - 0s 5ms/step - loss: 0.4867 - recall: 0.8276 - val_loss: 0.4778 - val_recall: 0.7631\n",
            "Epoch 85/200\n",
            "28/28 [==============================] - 0s 5ms/step - loss: 0.4759 - recall: 0.8024 - val_loss: 0.5028 - val_recall: 0.7945\n",
            "Epoch 86/200\n",
            "28/28 [==============================] - 0s 5ms/step - loss: 0.4817 - recall: 0.7953 - val_loss: 0.5098 - val_recall: 0.8008\n",
            "Epoch 87/200\n",
            "28/28 [==============================] - 0s 6ms/step - loss: 0.4808 - recall: 0.7909 - val_loss: 0.5158 - val_recall: 0.8134\n",
            "Epoch 88/200\n",
            "28/28 [==============================] - 0s 5ms/step - loss: 0.4830 - recall: 0.8161 - val_loss: 0.4936 - val_recall: 0.7925\n",
            "Epoch 89/200\n",
            "28/28 [==============================] - 0s 5ms/step - loss: 0.4774 - recall: 0.8003 - val_loss: 0.5088 - val_recall: 0.8008\n",
            "Epoch 90/200\n",
            "28/28 [==============================] - 0s 6ms/step - loss: 0.4850 - recall: 0.8032 - val_loss: 0.4993 - val_recall: 0.7945\n",
            "Epoch 91/200\n",
            "28/28 [==============================] - 0s 6ms/step - loss: 0.4816 - recall: 0.8039 - val_loss: 0.5063 - val_recall: 0.7966\n",
            "Epoch 92/200\n",
            "28/28 [==============================] - 0s 6ms/step - loss: 0.4816 - recall: 0.7902 - val_loss: 0.5018 - val_recall: 0.7945\n",
            "Epoch 93/200\n",
            "28/28 [==============================] - 0s 6ms/step - loss: 0.4837 - recall: 0.7924 - val_loss: 0.4956 - val_recall: 0.7883\n",
            "Epoch 94/200\n",
            "28/28 [==============================] - 0s 5ms/step - loss: 0.4767 - recall: 0.7931 - val_loss: 0.4913 - val_recall: 0.7883\n",
            "Epoch 95/200\n",
            "28/28 [==============================] - 0s 6ms/step - loss: 0.4801 - recall: 0.8017 - val_loss: 0.4997 - val_recall: 0.7925\n",
            "Epoch 96/200\n",
            "28/28 [==============================] - 0s 5ms/step - loss: 0.4824 - recall: 0.8082 - val_loss: 0.4990 - val_recall: 0.7925\n",
            "Epoch 97/200\n",
            "28/28 [==============================] - 0s 5ms/step - loss: 0.4815 - recall: 0.8039 - val_loss: 0.4991 - val_recall: 0.7925\n",
            "Epoch 98/200\n",
            "28/28 [==============================] - 0s 5ms/step - loss: 0.4807 - recall: 0.8032 - val_loss: 0.4964 - val_recall: 0.7925\n",
            "Epoch 99/200\n",
            "28/28 [==============================] - 0s 6ms/step - loss: 0.4838 - recall: 0.8089 - val_loss: 0.4857 - val_recall: 0.7694\n",
            "Epoch 100/200\n",
            "28/28 [==============================] - 0s 5ms/step - loss: 0.4815 - recall: 0.7881 - val_loss: 0.5004 - val_recall: 0.7925\n",
            "Epoch 101/200\n",
            "28/28 [==============================] - 0s 6ms/step - loss: 0.4798 - recall: 0.8039 - val_loss: 0.4981 - val_recall: 0.7904\n",
            "Epoch 102/200\n",
            "28/28 [==============================] - 0s 6ms/step - loss: 0.4767 - recall: 0.8096 - val_loss: 0.5012 - val_recall: 0.7925\n",
            "Epoch 103/200\n",
            "28/28 [==============================] - 0s 6ms/step - loss: 0.4785 - recall: 0.7909 - val_loss: 0.4915 - val_recall: 0.7820\n",
            "Epoch 104/200\n",
            "28/28 [==============================] - 0s 7ms/step - loss: 0.4747 - recall: 0.8039 - val_loss: 0.5053 - val_recall: 0.7966\n",
            "Epoch 105/200\n",
            "28/28 [==============================] - 0s 6ms/step - loss: 0.4809 - recall: 0.7895 - val_loss: 0.4908 - val_recall: 0.7778\n",
            "Epoch 106/200\n",
            "28/28 [==============================] - 0s 7ms/step - loss: 0.4782 - recall: 0.8103 - val_loss: 0.5041 - val_recall: 0.7945\n",
            "Epoch 107/200\n",
            "28/28 [==============================] - 0s 7ms/step - loss: 0.4785 - recall: 0.8190 - val_loss: 0.4941 - val_recall: 0.7925\n",
            "Epoch 108/200\n",
            "28/28 [==============================] - 0s 6ms/step - loss: 0.4749 - recall: 0.8068 - val_loss: 0.5069 - val_recall: 0.7987\n",
            "Epoch 109/200\n",
            "28/28 [==============================] - 0s 7ms/step - loss: 0.4751 - recall: 0.7909 - val_loss: 0.5040 - val_recall: 0.7925\n",
            "Epoch 110/200\n",
            "28/28 [==============================] - 0s 8ms/step - loss: 0.4808 - recall: 0.8032 - val_loss: 0.4867 - val_recall: 0.7694\n",
            "Epoch 111/200\n",
            "28/28 [==============================] - 0s 8ms/step - loss: 0.4796 - recall: 0.7996 - val_loss: 0.5037 - val_recall: 0.7945\n",
            "Epoch 112/200\n",
            "28/28 [==============================] - 0s 7ms/step - loss: 0.4794 - recall: 0.8082 - val_loss: 0.5068 - val_recall: 0.7987\n",
            "Epoch 113/200\n",
            "28/28 [==============================] - 0s 8ms/step - loss: 0.4744 - recall: 0.8118 - val_loss: 0.4943 - val_recall: 0.7883\n",
            "Epoch 114/200\n",
            "28/28 [==============================] - 0s 6ms/step - loss: 0.4751 - recall: 0.8161 - val_loss: 0.4906 - val_recall: 0.7862\n",
            "Epoch 115/200\n",
            "28/28 [==============================] - 0s 6ms/step - loss: 0.4767 - recall: 0.7909 - val_loss: 0.5099 - val_recall: 0.7987\n",
            "Epoch 116/200\n",
            "28/28 [==============================] - 0s 6ms/step - loss: 0.4746 - recall: 0.8147 - val_loss: 0.4872 - val_recall: 0.7673\n",
            "Epoch 117/200\n",
            "28/28 [==============================] - 0s 12ms/step - loss: 0.4793 - recall: 0.8010 - val_loss: 0.5169 - val_recall: 0.8092\n",
            "Epoch 118/200\n",
            "28/28 [==============================] - 0s 12ms/step - loss: 0.4731 - recall: 0.8168 - val_loss: 0.5140 - val_recall: 0.8071\n",
            "Epoch 119/200\n",
            "28/28 [==============================] - 0s 16ms/step - loss: 0.4752 - recall: 0.8039 - val_loss: 0.4942 - val_recall: 0.7862\n",
            "Epoch 120/200\n",
            "28/28 [==============================] - 0s 14ms/step - loss: 0.4746 - recall: 0.7902 - val_loss: 0.5224 - val_recall: 0.8176\n",
            "Epoch 121/200\n",
            "28/28 [==============================] - 0s 9ms/step - loss: 0.4678 - recall: 0.8211 - val_loss: 0.4774 - val_recall: 0.7526\n",
            "Epoch 122/200\n",
            "28/28 [==============================] - 0s 13ms/step - loss: 0.4762 - recall: 0.7852 - val_loss: 0.5083 - val_recall: 0.7987\n",
            "Epoch 123/200\n",
            "28/28 [==============================] - 0s 11ms/step - loss: 0.4743 - recall: 0.7945 - val_loss: 0.5009 - val_recall: 0.7925\n",
            "Epoch 124/200\n",
            "28/28 [==============================] - 0s 11ms/step - loss: 0.4704 - recall: 0.8118 - val_loss: 0.4913 - val_recall: 0.7841\n",
            "Epoch 125/200\n",
            "28/28 [==============================] - 0s 14ms/step - loss: 0.4799 - recall: 0.7931 - val_loss: 0.5076 - val_recall: 0.7966\n",
            "Epoch 126/200\n",
            "28/28 [==============================] - 0s 8ms/step - loss: 0.4728 - recall: 0.8190 - val_loss: 0.4833 - val_recall: 0.7631\n",
            "Epoch 127/200\n",
            "28/28 [==============================] - 0s 9ms/step - loss: 0.4738 - recall: 0.8089 - val_loss: 0.5038 - val_recall: 0.7945\n",
            "Epoch 128/200\n",
            "28/28 [==============================] - 0s 8ms/step - loss: 0.4709 - recall: 0.8089 - val_loss: 0.4798 - val_recall: 0.7526\n",
            "Epoch 129/200\n",
            "28/28 [==============================] - 0s 7ms/step - loss: 0.4767 - recall: 0.7924 - val_loss: 0.5100 - val_recall: 0.8008\n",
            "Epoch 130/200\n",
            "28/28 [==============================] - 0s 6ms/step - loss: 0.4759 - recall: 0.8046 - val_loss: 0.4978 - val_recall: 0.7841\n",
            "Epoch 131/200\n",
            "28/28 [==============================] - 0s 15ms/step - loss: 0.4768 - recall: 0.7989 - val_loss: 0.5044 - val_recall: 0.7904\n",
            "Epoch 132/200\n",
            "28/28 [==============================] - 0s 12ms/step - loss: 0.4742 - recall: 0.7953 - val_loss: 0.4977 - val_recall: 0.7883\n",
            "Epoch 133/200\n",
            "28/28 [==============================] - 0s 8ms/step - loss: 0.4752 - recall: 0.8075 - val_loss: 0.4916 - val_recall: 0.7862\n",
            "Epoch 134/200\n",
            "28/28 [==============================] - 0s 6ms/step - loss: 0.4715 - recall: 0.7981 - val_loss: 0.5119 - val_recall: 0.7966\n",
            "Epoch 135/200\n",
            "28/28 [==============================] - 0s 6ms/step - loss: 0.4730 - recall: 0.8046 - val_loss: 0.4988 - val_recall: 0.7883\n",
            "Epoch 136/200\n",
            "28/28 [==============================] - 0s 6ms/step - loss: 0.4756 - recall: 0.8068 - val_loss: 0.5045 - val_recall: 0.7925\n",
            "Epoch 137/200\n",
            "28/28 [==============================] - 0s 5ms/step - loss: 0.4731 - recall: 0.8053 - val_loss: 0.5082 - val_recall: 0.7925\n",
            "Epoch 138/200\n",
            "28/28 [==============================] - 0s 6ms/step - loss: 0.4687 - recall: 0.8111 - val_loss: 0.4995 - val_recall: 0.7862\n",
            "Epoch 139/200\n",
            "28/28 [==============================] - 0s 6ms/step - loss: 0.4715 - recall: 0.8060 - val_loss: 0.5050 - val_recall: 0.7883\n",
            "Epoch 140/200\n",
            "28/28 [==============================] - 0s 6ms/step - loss: 0.4759 - recall: 0.7967 - val_loss: 0.5079 - val_recall: 0.7925\n",
            "Epoch 141/200\n",
            "28/28 [==============================] - 0s 6ms/step - loss: 0.4734 - recall: 0.7967 - val_loss: 0.5002 - val_recall: 0.7904\n",
            "Epoch 142/200\n",
            "28/28 [==============================] - 0s 6ms/step - loss: 0.4717 - recall: 0.8204 - val_loss: 0.4958 - val_recall: 0.7862\n",
            "Epoch 143/200\n",
            "28/28 [==============================] - 0s 6ms/step - loss: 0.4719 - recall: 0.8017 - val_loss: 0.4969 - val_recall: 0.7862\n",
            "Epoch 144/200\n",
            "28/28 [==============================] - 0s 4ms/step - loss: 0.4710 - recall: 0.7989 - val_loss: 0.4963 - val_recall: 0.7862\n",
            "Epoch 145/200\n",
            "28/28 [==============================] - 0s 5ms/step - loss: 0.4764 - recall: 0.8132 - val_loss: 0.5083 - val_recall: 0.7925\n",
            "Epoch 146/200\n",
            "28/28 [==============================] - 0s 6ms/step - loss: 0.4729 - recall: 0.8082 - val_loss: 0.4904 - val_recall: 0.7820\n",
            "Epoch 147/200\n",
            "28/28 [==============================] - 0s 6ms/step - loss: 0.4722 - recall: 0.7967 - val_loss: 0.5003 - val_recall: 0.7925\n",
            "Epoch 148/200\n",
            "28/28 [==============================] - 0s 6ms/step - loss: 0.4715 - recall: 0.8010 - val_loss: 0.4930 - val_recall: 0.7673\n",
            "Epoch 149/200\n",
            "28/28 [==============================] - 0s 6ms/step - loss: 0.4732 - recall: 0.7931 - val_loss: 0.5040 - val_recall: 0.7904\n",
            "Epoch 150/200\n",
            "28/28 [==============================] - 0s 5ms/step - loss: 0.4734 - recall: 0.7996 - val_loss: 0.5163 - val_recall: 0.8029\n",
            "Epoch 151/200\n",
            "28/28 [==============================] - 0s 5ms/step - loss: 0.4729 - recall: 0.7960 - val_loss: 0.5154 - val_recall: 0.8008\n",
            "Epoch 152/200\n",
            "28/28 [==============================] - 0s 4ms/step - loss: 0.4688 - recall: 0.8103 - val_loss: 0.5087 - val_recall: 0.7987\n",
            "Epoch 153/200\n",
            "28/28 [==============================] - 0s 6ms/step - loss: 0.4711 - recall: 0.8154 - val_loss: 0.4934 - val_recall: 0.7820\n",
            "Epoch 154/200\n",
            "28/28 [==============================] - 0s 5ms/step - loss: 0.4676 - recall: 0.8075 - val_loss: 0.4953 - val_recall: 0.7820\n",
            "Epoch 155/200\n",
            "28/28 [==============================] - 0s 6ms/step - loss: 0.4739 - recall: 0.7895 - val_loss: 0.5192 - val_recall: 0.7987\n",
            "Epoch 156/200\n",
            "28/28 [==============================] - 0s 5ms/step - loss: 0.4686 - recall: 0.8190 - val_loss: 0.4926 - val_recall: 0.7799\n",
            "Epoch 157/200\n",
            "28/28 [==============================] - 0s 4ms/step - loss: 0.4674 - recall: 0.7996 - val_loss: 0.4998 - val_recall: 0.7883\n",
            "Epoch 158/200\n",
            "28/28 [==============================] - 0s 5ms/step - loss: 0.4696 - recall: 0.8017 - val_loss: 0.5071 - val_recall: 0.8008\n",
            "Epoch 159/200\n",
            "28/28 [==============================] - 0s 6ms/step - loss: 0.4682 - recall: 0.8111 - val_loss: 0.4901 - val_recall: 0.7736\n",
            "Epoch 160/200\n",
            "28/28 [==============================] - 0s 6ms/step - loss: 0.4714 - recall: 0.8132 - val_loss: 0.4895 - val_recall: 0.7715\n",
            "Epoch 161/200\n",
            "28/28 [==============================] - 0s 6ms/step - loss: 0.4684 - recall: 0.7996 - val_loss: 0.5056 - val_recall: 0.7883\n",
            "Epoch 162/200\n",
            "28/28 [==============================] - 0s 6ms/step - loss: 0.4683 - recall: 0.8075 - val_loss: 0.5056 - val_recall: 0.7904\n",
            "Epoch 163/200\n",
            "28/28 [==============================] - 0s 6ms/step - loss: 0.4699 - recall: 0.8046 - val_loss: 0.5050 - val_recall: 0.7904\n",
            "Epoch 164/200\n",
            "28/28 [==============================] - 0s 5ms/step - loss: 0.4680 - recall: 0.7996 - val_loss: 0.5057 - val_recall: 0.7904\n",
            "Epoch 165/200\n",
            "28/28 [==============================] - 0s 6ms/step - loss: 0.4726 - recall: 0.8046 - val_loss: 0.4951 - val_recall: 0.7841\n",
            "Epoch 166/200\n",
            "28/28 [==============================] - 0s 6ms/step - loss: 0.4692 - recall: 0.8147 - val_loss: 0.4954 - val_recall: 0.7799\n",
            "Epoch 167/200\n",
            "28/28 [==============================] - 0s 6ms/step - loss: 0.4665 - recall: 0.8017 - val_loss: 0.4947 - val_recall: 0.7862\n",
            "Epoch 168/200\n",
            "28/28 [==============================] - 0s 7ms/step - loss: 0.4656 - recall: 0.8089 - val_loss: 0.4991 - val_recall: 0.7799\n",
            "Epoch 169/200\n",
            "28/28 [==============================] - 0s 7ms/step - loss: 0.4686 - recall: 0.8024 - val_loss: 0.5150 - val_recall: 0.8029\n",
            "Epoch 170/200\n",
            "28/28 [==============================] - 0s 7ms/step - loss: 0.4755 - recall: 0.8096 - val_loss: 0.4844 - val_recall: 0.7610\n",
            "Epoch 171/200\n",
            "28/28 [==============================] - 0s 7ms/step - loss: 0.4654 - recall: 0.8053 - val_loss: 0.4988 - val_recall: 0.7883\n",
            "Epoch 172/200\n",
            "28/28 [==============================] - 0s 6ms/step - loss: 0.4673 - recall: 0.8247 - val_loss: 0.4970 - val_recall: 0.7820\n",
            "Epoch 173/200\n",
            "28/28 [==============================] - 0s 6ms/step - loss: 0.4686 - recall: 0.8161 - val_loss: 0.4971 - val_recall: 0.7862\n",
            "Epoch 174/200\n",
            "28/28 [==============================] - 0s 6ms/step - loss: 0.4742 - recall: 0.8082 - val_loss: 0.4951 - val_recall: 0.7778\n",
            "Epoch 175/200\n",
            "28/28 [==============================] - 0s 6ms/step - loss: 0.4621 - recall: 0.8024 - val_loss: 0.5059 - val_recall: 0.7904\n",
            "Epoch 176/200\n",
            "28/28 [==============================] - 0s 7ms/step - loss: 0.4731 - recall: 0.8154 - val_loss: 0.4840 - val_recall: 0.7589\n",
            "Epoch 177/200\n",
            "28/28 [==============================] - 0s 8ms/step - loss: 0.4731 - recall: 0.7866 - val_loss: 0.5304 - val_recall: 0.8176\n",
            "Epoch 178/200\n",
            "28/28 [==============================] - 0s 8ms/step - loss: 0.4629 - recall: 0.8269 - val_loss: 0.5057 - val_recall: 0.7862\n",
            "Epoch 179/200\n",
            "28/28 [==============================] - 0s 8ms/step - loss: 0.4637 - recall: 0.8125 - val_loss: 0.4899 - val_recall: 0.7631\n",
            "Epoch 180/200\n",
            "28/28 [==============================] - 0s 8ms/step - loss: 0.4650 - recall: 0.8046 - val_loss: 0.5165 - val_recall: 0.7925\n",
            "Epoch 181/200\n",
            "28/28 [==============================] - 0s 7ms/step - loss: 0.4643 - recall: 0.8125 - val_loss: 0.4931 - val_recall: 0.7799\n",
            "Epoch 182/200\n",
            "28/28 [==============================] - 0s 7ms/step - loss: 0.4663 - recall: 0.8060 - val_loss: 0.5136 - val_recall: 0.7966\n",
            "Epoch 183/200\n",
            "28/28 [==============================] - 0s 7ms/step - loss: 0.4644 - recall: 0.8111 - val_loss: 0.5005 - val_recall: 0.7841\n",
            "Epoch 184/200\n",
            "28/28 [==============================] - 0s 7ms/step - loss: 0.4628 - recall: 0.8168 - val_loss: 0.4956 - val_recall: 0.7820\n",
            "Epoch 185/200\n",
            "28/28 [==============================] - 0s 6ms/step - loss: 0.4658 - recall: 0.8240 - val_loss: 0.4917 - val_recall: 0.7715\n",
            "Epoch 186/200\n",
            "28/28 [==============================] - 0s 5ms/step - loss: 0.4604 - recall: 0.8039 - val_loss: 0.5033 - val_recall: 0.7862\n",
            "Epoch 187/200\n",
            "28/28 [==============================] - 0s 5ms/step - loss: 0.4628 - recall: 0.8103 - val_loss: 0.5070 - val_recall: 0.7862\n",
            "Epoch 188/200\n",
            "28/28 [==============================] - 0s 6ms/step - loss: 0.4687 - recall: 0.8161 - val_loss: 0.5231 - val_recall: 0.8008\n",
            "Epoch 189/200\n",
            "28/28 [==============================] - 0s 6ms/step - loss: 0.4648 - recall: 0.7981 - val_loss: 0.5177 - val_recall: 0.7987\n",
            "Epoch 190/200\n",
            "28/28 [==============================] - 0s 6ms/step - loss: 0.4631 - recall: 0.8420 - val_loss: 0.4937 - val_recall: 0.7757\n",
            "Epoch 191/200\n",
            "28/28 [==============================] - 0s 6ms/step - loss: 0.4633 - recall: 0.7924 - val_loss: 0.5053 - val_recall: 0.7862\n",
            "Epoch 192/200\n",
            "28/28 [==============================] - 0s 5ms/step - loss: 0.4651 - recall: 0.8290 - val_loss: 0.5133 - val_recall: 0.7904\n",
            "Epoch 193/200\n",
            "28/28 [==============================] - 0s 6ms/step - loss: 0.4684 - recall: 0.7895 - val_loss: 0.5111 - val_recall: 0.7904\n",
            "Epoch 194/200\n",
            "28/28 [==============================] - 0s 6ms/step - loss: 0.4699 - recall: 0.8096 - val_loss: 0.5121 - val_recall: 0.7925\n",
            "Epoch 195/200\n",
            "28/28 [==============================] - 0s 5ms/step - loss: 0.4664 - recall: 0.8053 - val_loss: 0.5050 - val_recall: 0.7862\n",
            "Epoch 196/200\n",
            "28/28 [==============================] - 0s 5ms/step - loss: 0.4662 - recall: 0.8182 - val_loss: 0.4949 - val_recall: 0.7736\n",
            "Epoch 197/200\n",
            "28/28 [==============================] - 0s 5ms/step - loss: 0.4623 - recall: 0.8068 - val_loss: 0.5106 - val_recall: 0.7904\n",
            "Epoch 198/200\n",
            "28/28 [==============================] - 0s 6ms/step - loss: 0.4640 - recall: 0.8111 - val_loss: 0.5088 - val_recall: 0.7904\n",
            "Epoch 199/200\n",
            "28/28 [==============================] - 0s 7ms/step - loss: 0.4590 - recall: 0.8182 - val_loss: 0.5008 - val_recall: 0.7757\n",
            "Epoch 200/200\n",
            "28/28 [==============================] - 0s 6ms/step - loss: 0.4644 - recall: 0.8111 - val_loss: 0.5089 - val_recall: 0.7862\n"
          ]
        }
      ]
    },
    {
      "cell_type": "code",
      "metadata": {
        "id": "tb4lYkweZRJ3"
      },
      "source": [
        "a = [i for i in history.history.keys()]"
      ],
      "execution_count": 48,
      "outputs": []
    },
    {
      "cell_type": "code",
      "metadata": {
        "colab": {
          "base_uri": "https://localhost:8080/",
          "height": 480
        },
        "id": "fKycHj9hRMX-",
        "outputId": "de6474b6-03e1-4142-8435-1b8665c04e7c"
      },
      "source": [
        "plt.plot(history.history[a[1]])\n",
        "plt.plot(history.history[a[3]])\n",
        "plt.title('model recall')\n",
        "plt.ylabel('recall')\n",
        "plt.xlabel('epoch')\n",
        "plt.legend(['train', 'test'], loc='upper left')\n",
        "plt.show()"
      ],
      "execution_count": 49,
      "outputs": [
        {
          "output_type": "display_data",
          "data": {
            "text/plain": [
              "<Figure size 640x480 with 1 Axes>"
            ],
            "image/png": "[encoded data removed]"
          },
          "metadata": {}
        }
      ]
    },
    {
      "cell_type": "markdown",
      "metadata": {
        "id": "rNwmNxCl1c9x"
      },
      "source": [
        " ## Creating models:\n",
        "\n",
        "- Random Forest\n",
        "- Logistic Regression\n",
        "- Decision Tree\n"
      ]
    },
    {
      "cell_type": "code",
      "metadata": {
        "id": "wpVJioP2ODKr",
        "colab": {
          "base_uri": "https://localhost:8080/"
        },
        "outputId": "3b972b18-cb90-4177-8e44-564454ed42d9"
      },
      "source": [
        "# As decision tree and randomforest are scale invariant, we standartize\n",
        "# out features because of Logistic Regression\n",
        "X_train_std = (X_train - np.mean(X_train)) / np.std(X_train)\n",
        "X_test_std = (X_test - np.mean(X_test)) / np.std(X_test)\n",
        "X_train_rus, y_train_rus = rus.fit_resample(X_train_std, y_train)\n",
        "\n",
        "lr = LogisticRegression()\n",
        "rf = RandomForestClassifier()\n",
        "dt = DecisionTreeClassifier()\n",
        "\n",
        "\n",
        "model = []\n",
        "cross_val = []\n",
        "recall = []\n",
        "for i in (rf, dt, lr):\n",
        "  # if i == lr:\n",
        "    # Feature standartization for Logistic Regression\n",
        "    # X_train_std = (X_train - np.mean(X_train)) / np.std(X_train)\n",
        "\n",
        "    # X_train_rus, y_train_rus = rus.fit_resample(X_train_std, y_train)\n",
        "  model.append(i.__class__.__name__)\n",
        "  # baseline scores of models\n",
        "  cross_val.append(cross_validate(i, X_train_rus, y_train_rus, scoring='recall'))\n",
        "\n",
        "for d in range(len(cross_val)):\n",
        "  recall.append(cross_val[d]['test_score'].mean())"
      ],
      "execution_count": 50,
      "outputs": [
        {
          "output_type": "stream",
          "name": "stderr",
          "text": [
            "/usr/local/lib/python3.10/dist-packages/numpy/core/fromnumeric.py:3430: FutureWarning: In a future version, DataFrame.mean(axis=None) will return a scalar mean over the entire DataFrame. To retain the old behavior, use 'frame.mean(axis=0)' or just 'frame.mean()'\n",
            "  return mean(axis=axis, dtype=dtype, out=out, **kwargs)\n",
            "/usr/local/lib/python3.10/dist-packages/numpy/core/fromnumeric.py:3430: FutureWarning: In a future version, DataFrame.mean(axis=None) will return a scalar mean over the entire DataFrame. To retain the old behavior, use 'frame.mean(axis=0)' or just 'frame.mean()'\n",
            "  return mean(axis=axis, dtype=dtype, out=out, **kwargs)\n"
          ]
        }
      ]
    },
    {
      "cell_type": "code",
      "metadata": {
        "id": "j6BqLnmlHAuZ",
        "colab": {
          "base_uri": "https://localhost:8080/",
          "height": 143
        },
        "outputId": "724f5595-a836-4880-c4de-35f413adff25"
      },
      "source": [
        "model_recall = pd.DataFrame\n",
        "pd.DataFrame(data=recall, index=model, columns=['recall'])"
      ],
      "execution_count": 51,
      "outputs": [
        {
          "output_type": "execute_result",
          "data": {
            "text/plain": [
              "                          recall\n",
              "RandomForestClassifier  0.762211\n",
              "DecisionTreeClassifier  0.682437\n",
              "LogisticRegression      0.801019"
            ],
            "text/html": [
              "\n",
              "  <div id=\"df-c14b64e5-f0e8-41da-b31e-91df3af2cd17\" class=\"colab-df-container\">\n",
              "    <div>\n",
              "<style scoped>\n",
              "    .dataframe tbody tr th:only-of-type {\n",
              "        vertical-align: middle;\n",
              "    }\n",
              "\n",
              "    .dataframe tbody tr th {\n",
              "        vertical-align: top;\n",
              "    }\n",
              "\n",
              "    .dataframe thead th {\n",
              "        text-align: right;\n",
              "    }\n",
              "</style>\n",
              "<table border=\"1\" class=\"dataframe\">\n",
              "  <thead>\n",
              "    <tr style=\"text-align: right;\">\n",
              "      <th></th>\n",
              "      <th>recall</th>\n",
              "    </tr>\n",
              "  </thead>\n",
              "  <tbody>\n",
              "    <tr>\n",
              "      <th>RandomForestClassifier</th>\n",
              "      <td>0.762211</td>\n",
              "    </tr>\n",
              "    <tr>\n",
              "      <th>DecisionTreeClassifier</th>\n",
              "      <td>0.682437</td>\n",
              "    </tr>\n",
              "    <tr>\n",
              "      <th>LogisticRegression</th>\n",
              "      <td>0.801019</td>\n",
              "    </tr>\n",
              "  </tbody>\n",
              "</table>\n",
              "</div>\n",
              "    <div class=\"colab-df-buttons\">\n",
              "\n",
              "  <div class=\"colab-df-container\">\n",
              "    <button class=\"colab-df-convert\" onclick=\"convertToInteractive('df-c14b64e5-f0e8-41da-b31e-91df3af2cd17')\"\n",
              "            title=\"Convert this dataframe to an interactive table.\"\n",
              "            style=\"display:none;\">\n",
              "\n",
              "  <svg xmlns=\"http://www.w3.org/2000/svg\" height=\"24px\" viewBox=\"0 -960 960 960\">\n",
              "    <path d=\"M120-120v-720h720v720H120Zm60-500h600v-160H180v160Zm220 220h160v-160H400v160Zm0 220h160v-160H400v160ZM180-400h160v-160H180v160Zm440 0h160v-160H620v160ZM180-180h160v-160H180v160Zm440 0h160v-160H620v160Z\"/>\n",
              "  </svg>\n",
              "    </button>\n",
              "\n",
              "  <style>\n",
              "    .colab-df-container {\n",
              "      display:flex;\n",
              "      gap: 12px;\n",
              "    }\n",
              "\n",
              "    .colab-df-convert {\n",
              "      background-color: #E8F0FE;\n",
              "      border: none;\n",
              "      border-radius: 50%;\n",
              "      cursor: pointer;\n",
              "      display: none;\n",
              "      fill: #1967D2;\n",
              "      height: 32px;\n",
              "      padding: 0 0 0 0;\n",
              "      width: 32px;\n",
              "    }\n",
              "\n",
              "    .colab-df-convert:hover {\n",
              "      background-color: #E2EBFA;\n",
              "      box-shadow: 0px 1px 2px rgba(60, 64, 67, 0.3), 0px 1px 3px 1px rgba(60, 64, 67, 0.15);\n",
              "      fill: #174EA6;\n",
              "    }\n",
              "\n",
              "    .colab-df-buttons div {\n",
              "      margin-bottom: 4px;\n",
              "    }\n",
              "\n",
              "    [theme=dark] .colab-df-convert {\n",
              "      background-color: #3B4455;\n",
              "      fill: #D2E3FC;\n",
              "    }\n",
              "\n",
              "    [theme=dark] .colab-df-convert:hover {\n",
              "      background-color: #434B5C;\n",
              "      box-shadow: 0px 1px 3px 1px rgba(0, 0, 0, 0.15);\n",
              "      filter: drop-shadow(0px 1px 2px rgba(0, 0, 0, 0.3));\n",
              "      fill: #FFFFFF;\n",
              "    }\n",
              "  </style>\n",
              "\n",
              "    <script>\n",
              "      const buttonEl =\n",
              "        document.querySelector('#df-c14b64e5-f0e8-41da-b31e-91df3af2cd17 button.colab-df-convert');\n",
              "      buttonEl.style.display =\n",
              "        google.colab.kernel.accessAllowed ? 'block' : 'none';\n",
              "\n",
              "      async function convertToInteractive(key) {\n",
              "        const element = document.querySelector('#df-c14b64e5-f0e8-41da-b31e-91df3af2cd17');\n",
              "        const dataTable =\n",
              "          await google.colab.kernel.invokeFunction('convertToInteractive',\n",
              "                                                    [key], {});\n",
              "        if (!dataTable) return;\n",
              "\n",
              "        const docLinkHtml = 'Like what you see? Visit the ' +\n",
              "          '<a target=\"_blank\" href=https://colab.research.google.com/notebooks/data_table.ipynb>data table notebook</a>'\n",
              "          + ' to learn more about interactive tables.';\n",
              "        element.innerHTML = '';\n",
              "        dataTable['output_type'] = 'display_data';\n",
              "        await google.colab.output.renderOutput(dataTable, element);\n",
              "        const docLink = document.createElement('div');\n",
              "        docLink.innerHTML = docLinkHtml;\n",
              "        element.appendChild(docLink);\n",
              "      }\n",
              "    </script>\n",
              "  </div>\n",
              "\n",
              "\n",
              "<div id=\"df-faffde53-a9a2-4378-8b43-b5ce96924a11\">\n",
              "  <button class=\"colab-df-quickchart\" onclick=\"quickchart('df-faffde53-a9a2-4378-8b43-b5ce96924a11')\"\n",
              "            title=\"Suggest charts\"\n",
              "            style=\"display:none;\">\n",
              "\n",
              "<svg xmlns=\"http://www.w3.org/2000/svg\" height=\"24px\"viewBox=\"0 0 24 24\"\n",
              "     width=\"24px\">\n",
              "    <g>\n",
              "        <path d=\"M19 3H5c-1.1 0-2 .9-2 2v14c0 1.1.9 2 2 2h14c1.1 0 2-.9 2-2V5c0-1.1-.9-2-2-2zM9 17H7v-7h2v7zm4 0h-2V7h2v10zm4 0h-2v-4h2v4z\"/>\n",
              "    </g>\n",
              "</svg>\n",
              "  </button>\n",
              "\n",
              "<style>\n",
              "  .colab-df-quickchart {\n",
              "      --bg-color: #E8F0FE;\n",
              "      --fill-color: #1967D2;\n",
              "      --hover-bg-color: #E2EBFA;\n",
              "      --hover-fill-color: #174EA6;\n",
              "      --disabled-fill-color: #AAA;\n",
              "      --disabled-bg-color: #DDD;\n",
              "  }\n",
              "\n",
              "  [theme=dark] .colab-df-quickchart {\n",
              "      --bg-color: #3B4455;\n",
              "      --fill-color: #D2E3FC;\n",
              "      --hover-bg-color: #434B5C;\n",
              "      --hover-fill-color: #FFFFFF;\n",
              "      --disabled-bg-color: #3B4455;\n",
              "      --disabled-fill-color: #666;\n",
              "  }\n",
              "\n",
              "  .colab-df-quickchart {\n",
              "    background-color: var(--bg-color);\n",
              "    border: none;\n",
              "    border-radius: 50%;\n",
              "    cursor: pointer;\n",
              "    display: none;\n",
              "    fill: var(--fill-color);\n",
              "    height: 32px;\n",
              "    padding: 0;\n",
              "    width: 32px;\n",
              "  }\n",
              "\n",
              "  .colab-df-quickchart:hover {\n",
              "    background-color: var(--hover-bg-color);\n",
              "    box-shadow: 0 1px 2px rgba(60, 64, 67, 0.3), 0 1px 3px 1px rgba(60, 64, 67, 0.15);\n",
              "    fill: var(--button-hover-fill-color);\n",
              "  }\n",
              "\n",
              "  .colab-df-quickchart-complete:disabled,\n",
              "  .colab-df-quickchart-complete:disabled:hover {\n",
              "    background-color: var(--disabled-bg-color);\n",
              "    fill: var(--disabled-fill-color);\n",
              "    box-shadow: none;\n",
              "  }\n",
              "\n",
              "  .colab-df-spinner {\n",
              "    border: 2px solid var(--fill-color);\n",
              "    border-color: transparent;\n",
              "    border-bottom-color: var(--fill-color);\n",
              "    animation:\n",
              "      spin 1s steps(1) infinite;\n",
              "  }\n",
              "\n",
              "  @keyframes spin {\n",
              "    0% {\n",
              "      border-color: transparent;\n",
              "      border-bottom-color: var(--fill-color);\n",
              "      border-left-color: var(--fill-color);\n",
              "    }\n",
              "    20% {\n",
              "      border-color: transparent;\n",
              "      border-left-color: var(--fill-color);\n",
              "      border-top-color: var(--fill-color);\n",
              "    }\n",
              "    30% {\n",
              "      border-color: transparent;\n",
              "      border-left-color: var(--fill-color);\n",
              "      border-top-color: var(--fill-color);\n",
              "      border-right-color: var(--fill-color);\n",
              "    }\n",
              "    40% {\n",
              "      border-color: transparent;\n",
              "      border-right-color: var(--fill-color);\n",
              "      border-top-color: var(--fill-color);\n",
              "    }\n",
              "    60% {\n",
              "      border-color: transparent;\n",
              "      border-right-color: var(--fill-color);\n",
              "    }\n",
              "    80% {\n",
              "      border-color: transparent;\n",
              "      border-right-color: var(--fill-color);\n",
              "      border-bottom-color: var(--fill-color);\n",
              "    }\n",
              "    90% {\n",
              "      border-color: transparent;\n",
              "      border-bottom-color: var(--fill-color);\n",
              "    }\n",
              "  }\n",
              "</style>\n",
              "\n",
              "  <script>\n",
              "    async function quickchart(key) {\n",
              "      const quickchartButtonEl =\n",
              "        document.querySelector('#' + key + ' button');\n",
              "      quickchartButtonEl.disabled = true;  // To prevent multiple clicks.\n",
              "      quickchartButtonEl.classList.add('colab-df-spinner');\n",
              "      try {\n",
              "        const charts = await google.colab.kernel.invokeFunction(\n",
              "            'suggestCharts', [key], {});\n",
              "      } catch (error) {\n",
              "        console.error('Error during call to suggestCharts:', error);\n",
              "      }\n",
              "      quickchartButtonEl.classList.remove('colab-df-spinner');\n",
              "      quickchartButtonEl.classList.add('colab-df-quickchart-complete');\n",
              "    }\n",
              "    (() => {\n",
              "      let quickchartButtonEl =\n",
              "        document.querySelector('#df-faffde53-a9a2-4378-8b43-b5ce96924a11 button');\n",
              "      quickchartButtonEl.style.display =\n",
              "        google.colab.kernel.accessAllowed ? 'block' : 'none';\n",
              "    })();\n",
              "  </script>\n",
              "</div>\n",
              "    </div>\n",
              "  </div>\n"
            ]
          },
          "metadata": {},
          "execution_count": 51
        }
      ]
    },
    {
      "cell_type": "code",
      "metadata": {
        "id": "U0u4VbEs89PL"
      },
      "source": [
        "# min_max scaler  std       std on new rus\n",
        "# rf  0.745       0.753     0.7622\n",
        "# dt  0.649       0.679     0.6824\n",
        "# lr  0.794       0.788     0.8010"
      ],
      "execution_count": null,
      "outputs": []
    },
    {
      "cell_type": "markdown",
      "metadata": {
        "id": "bF2wtdnNVuWi"
      },
      "source": [
        "Now whe shall tune each model's hyperparameters using GridSearchCV and RandomizedSearchCV."
      ]
    },
    {
      "cell_type": "markdown",
      "metadata": {
        "id": "jmzX_YHuidx0"
      },
      "source": [
        "## Logistic Regression\n"
      ]
    },
    {
      "cell_type": "markdown",
      "source": [
        "We need to drop highly correlated features in order to fit our data to Logistic Regression because multicollinearity will lead us to absurd coeficients of our model\n",
        "\n",
        "\n"
      ],
      "metadata": {
        "id": "yRmMkNTp--zd"
      }
    },
    {
      "cell_type": "code",
      "metadata": {
        "id": "CRr0VkyQgNT-",
        "colab": {
          "base_uri": "https://localhost:8080/"
        },
        "outputId": "a623863f-6a27-433e-aa11-110da9770b32"
      },
      "source": [
        "lr = LogisticRegression()\n",
        "\n",
        "param_grid = {'solver': ['newton-cg', 'lbfgs', 'liblinear'],\n",
        "              'C': [0.0001, 0.001, 0.01, 0.1, 1, 10, 100]}\n",
        "\n",
        "# GridSearchCV\n",
        "grid_search = GridSearchCV(lr, param_grid, scoring='recall')\n",
        "grid_result = grid_search.fit(X_train_rus.drop('TotalCharges', axis=1), y_train_rus)\n",
        "\n",
        "print(f'Best result: {grid_result.best_score_} for {grid_result.best_params_}')"
      ],
      "execution_count": 69,
      "outputs": [
        {
          "output_type": "stream",
          "name": "stdout",
          "text": [
            "Best result: 0.8707021479590521 for {'C': 0.0001, 'solver': 'liblinear'}\n"
          ]
        }
      ]
    },
    {
      "cell_type": "markdown",
      "metadata": {
        "id": "xaXhMnV0i9Ye"
      },
      "source": [
        "Observing increase of a recall with 7% after tuning"
      ]
    },
    {
      "cell_type": "markdown",
      "metadata": {
        "id": "q5h1zYdIis76"
      },
      "source": [
        "## Decision tree"
      ]
    },
    {
      "cell_type": "markdown",
      "metadata": {
        "id": "EQRqBEwsi1vj"
      },
      "source": [
        "First of all, using RandomizedSearchCV to narrow hyperparameters search space\n",
        "\n",
        "\n",
        "\n"
      ]
    },
    {
      "cell_type": "code",
      "metadata": {
        "id": "KRKhX7TfK0cu"
      },
      "source": [
        "dt = DecisionTreeClassifier()\n",
        "modle = dt.fit(X=X_train_rus, y=y_train_rus)"
      ],
      "execution_count": 53,
      "outputs": []
    },
    {
      "cell_type": "code",
      "metadata": {
        "id": "ze8HXkb5SeNJ"
      },
      "source": [
        "from sklearn.model_selection import RandomizedSearchCV\n",
        "from scipy.stats import randint\n",
        "# Descisicon tree tuning\n",
        "\n",
        "param_dist = {\"max_depth\": [3, 4, 5, 6, 7, None],\n",
        "              \"max_features\":  [np.random.randint(1, X_train.shape[1]) for i in range(5)],\n",
        "              \"min_samples_leaf\":  [i for i in range(1, 10)],\n",
        "              \"criterion\": [\"gini\", \"entropy\"],\n",
        "              \"min_samples_split\": [2,4,6,8],\n",
        "              \"splitter\": ['best', 'random'],\n",
        "              }\n",
        "\n",
        "dt = DecisionTreeClassifier()\n",
        "tree_cv = RandomizedSearchCV(estimator=dt, param_distributions=param_dist, cv=5, scoring='recall')\n",
        "\n",
        "# Fit it to the data\n",
        "tree_cv.fit(X_train_rus, y_train_rus)\n",
        "\n",
        "# Print the tuned parameters and score\n",
        "print(\"Tuned Decision Tree Parameters: {}\".format(tree_cv.best_params_))\n",
        "print(\"Best score is {}\".format(tree_cv.best_score_))"
      ],
      "execution_count": null,
      "outputs": []
    },
    {
      "cell_type": "markdown",
      "metadata": {
        "id": "aViIYMk0LU1F"
      },
      "source": [
        "Tuned Decision Tree Parameters: {'splitter': 'best', 'min_samples_split': 4, 'min_samples_leaf': 9, 'max_features': 5, 'max_depth': 5, 'criterion': 'gini'}\n",
        "\n",
        "\n"
      ]
    },
    {
      "cell_type": "markdown",
      "metadata": {
        "id": "Ko2PaMjZjBzg"
      },
      "source": [
        "\n",
        "We shall use new hyperparameters space (i.e. we got from RandomizedSearchCV) to better our model performance now"
      ]
    },
    {
      "cell_type": "code",
      "metadata": {
        "id": "FWjS_rYQEuYf",
        "colab": {
          "base_uri": "https://localhost:8080/",
          "height": 118
        },
        "outputId": "4030b35c-1ea4-4880-ebc5-4fffbd0c9b61"
      },
      "source": [
        "param_dist = {\"max_depth\": [2, 3, 4, None],\n",
        "              \"max_features\":  [i for i in range(8, 16)],\n",
        "              \"min_samples_leaf\":  [i for i in range(6,12)],\n",
        "              # \"criterion\": [\"gini\", \"entropy\"],\n",
        "              \"min_samples_split\": [2,3]\n",
        "              # \"splitter\": ['best', 'random'],\n",
        "              }\n",
        "dt = DecisionTreeClassifier(splitter='random', criterion='entropy')\n",
        "\n",
        "# dt = DecisionTreeClassifier(splitter='best', criterion='gini')\n",
        "\n",
        "tree_grid_cv = GridSearchCV(estimator=dt, param_grid=param_dist, cv=5, scoring='recall')\n",
        "\n",
        "tree_grid_cv.fit(X_train_rus, y_train_rus)"
      ],
      "execution_count": 56,
      "outputs": [
        {
          "output_type": "execute_result",
          "data": {
            "text/plain": [
              "GridSearchCV(cv=5,\n",
              "             estimator=DecisionTreeClassifier(criterion='entropy',\n",
              "                                              splitter='random'),\n",
              "             param_grid={'max_depth': [2, 3, 4, None],\n",
              "                         'max_features': [8, 9, 10, 11, 12, 13, 14, 15],\n",
              "                         'min_samples_leaf': [6, 7, 8, 9, 10, 11],\n",
              "                         'min_samples_split': [2, 3]},\n",
              "             scoring='recall')"
            ],
            "text/html": [
              "<style>#sk-container-id-1 {color: black;background-color: white;}#sk-container-id-1 pre{padding: 0;}#sk-container-id-1 div.sk-toggleable {background-color: white;}#sk-container-id-1 label.sk-toggleable__label {cursor: pointer;display: block;width: 100%;margin-bottom: 0;padding: 0.3em;box-sizing: border-box;text-align: center;}#sk-container-id-1 label.sk-toggleable__label-arrow:before {content: \"▸\";float: left;margin-right: 0.25em;color: #696969;}#sk-container-id-1 label.sk-toggleable__label-arrow:hover:before {color: black;}#sk-container-id-1 div.sk-estimator:hover label.sk-toggleable__label-arrow:before {color: black;}#sk-container-id-1 div.sk-toggleable__content {max-height: 0;max-width: 0;overflow: hidden;text-align: left;background-color: #f0f8ff;}#sk-container-id-1 div.sk-toggleable__content pre {margin: 0.2em;color: black;border-radius: 0.25em;background-color: #f0f8ff;}#sk-container-id-1 input.sk-toggleable__control:checked~div.sk-toggleable__content {max-height: 200px;max-width: 100%;overflow: auto;}#sk-container-id-1 input.sk-toggleable__control:checked~label.sk-toggleable__label-arrow:before {content: \"▾\";}#sk-container-id-1 div.sk-estimator input.sk-toggleable__control:checked~label.sk-toggleable__label {background-color: #d4ebff;}#sk-container-id-1 div.sk-label input.sk-toggleable__control:checked~label.sk-toggleable__label {background-color: #d4ebff;}#sk-container-id-1 input.sk-hidden--visually {border: 0;clip: rect(1px 1px 1px 1px);clip: rect(1px, 1px, 1px, 1px);height: 1px;margin: -1px;overflow: hidden;padding: 0;position: absolute;width: 1px;}#sk-container-id-1 div.sk-estimator {font-family: monospace;background-color: #f0f8ff;border: 1px dotted black;border-radius: 0.25em;box-sizing: border-box;margin-bottom: 0.5em;}#sk-container-id-1 div.sk-estimator:hover {background-color: #d4ebff;}#sk-container-id-1 div.sk-parallel-item::after {content: \"\";width: 100%;border-bottom: 1px solid gray;flex-grow: 1;}#sk-container-id-1 div.sk-label:hover label.sk-toggleable__label {background-color: #d4ebff;}#sk-container-id-1 div.sk-serial::before {content: \"\";position: absolute;border-left: 1px solid gray;box-sizing: border-box;top: 0;bottom: 0;left: 50%;z-index: 0;}#sk-container-id-1 div.sk-serial {display: flex;flex-direction: column;align-items: center;background-color: white;padding-right: 0.2em;padding-left: 0.2em;position: relative;}#sk-container-id-1 div.sk-item {position: relative;z-index: 1;}#sk-container-id-1 div.sk-parallel {display: flex;align-items: stretch;justify-content: center;background-color: white;position: relative;}#sk-container-id-1 div.sk-item::before, #sk-container-id-1 div.sk-parallel-item::before {content: \"\";position: absolute;border-left: 1px solid gray;box-sizing: border-box;top: 0;bottom: 0;left: 50%;z-index: -1;}#sk-container-id-1 div.sk-parallel-item {display: flex;flex-direction: column;z-index: 1;position: relative;background-color: white;}#sk-container-id-1 div.sk-parallel-item:first-child::after {align-self: flex-end;width: 50%;}#sk-container-id-1 div.sk-parallel-item:last-child::after {align-self: flex-start;width: 50%;}#sk-container-id-1 div.sk-parallel-item:only-child::after {width: 0;}#sk-container-id-1 div.sk-dashed-wrapped {border: 1px dashed gray;margin: 0 0.4em 0.5em 0.4em;box-sizing: border-box;padding-bottom: 0.4em;background-color: white;}#sk-container-id-1 div.sk-label label {font-family: monospace;font-weight: bold;display: inline-block;line-height: 1.2em;}#sk-container-id-1 div.sk-label-container {text-align: center;}#sk-container-id-1 div.sk-container {/* jupyter's `normalize.less` sets `[hidden] { display: none; }` but bootstrap.min.css set `[hidden] { display: none !important; }` so we also need the `!important` here to be able to override the default hidden behavior on the sphinx rendered scikit-learn.org. See: https://github.com/scikit-learn/scikit-learn/issues/21755 */display: inline-block !important;position: relative;}#sk-container-id-1 div.sk-text-repr-fallback {display: none;}</style><div id=\"sk-container-id-1\" class=\"sk-top-container\"><div class=\"sk-text-repr-fallback\"><pre>GridSearchCV(cv=5,\n",
              "             estimator=DecisionTreeClassifier(criterion=&#x27;entropy&#x27;,\n",
              "                                              splitter=&#x27;random&#x27;),\n",
              "             param_grid={&#x27;max_depth&#x27;: [2, 3, 4, None],\n",
              "                         &#x27;max_features&#x27;: [8, 9, 10, 11, 12, 13, 14, 15],\n",
              "                         &#x27;min_samples_leaf&#x27;: [6, 7, 8, 9, 10, 11],\n",
              "                         &#x27;min_samples_split&#x27;: [2, 3]},\n",
              "             scoring=&#x27;recall&#x27;)</pre><b>In a Jupyter environment, please rerun this cell to show the HTML representation or trust the notebook. <br />On GitHub, the HTML representation is unable to render, please try loading this page with nbviewer.org.</b></div><div class=\"sk-container\" hidden><div class=\"sk-item sk-dashed-wrapped\"><div class=\"sk-label-container\"><div class=\"sk-label sk-toggleable\"><input class=\"sk-toggleable__control sk-hidden--visually\" id=\"sk-estimator-id-1\" type=\"checkbox\" ><label for=\"sk-estimator-id-1\" class=\"sk-toggleable__label sk-toggleable__label-arrow\">GridSearchCV</label><div class=\"sk-toggleable__content\"><pre>GridSearchCV(cv=5,\n",
              "             estimator=DecisionTreeClassifier(criterion=&#x27;entropy&#x27;,\n",
              "                                              splitter=&#x27;random&#x27;),\n",
              "             param_grid={&#x27;max_depth&#x27;: [2, 3, 4, None],\n",
              "                         &#x27;max_features&#x27;: [8, 9, 10, 11, 12, 13, 14, 15],\n",
              "                         &#x27;min_samples_leaf&#x27;: [6, 7, 8, 9, 10, 11],\n",
              "                         &#x27;min_samples_split&#x27;: [2, 3]},\n",
              "             scoring=&#x27;recall&#x27;)</pre></div></div></div><div class=\"sk-parallel\"><div class=\"sk-parallel-item\"><div class=\"sk-item\"><div class=\"sk-label-container\"><div class=\"sk-label sk-toggleable\"><input class=\"sk-toggleable__control sk-hidden--visually\" id=\"sk-estimator-id-2\" type=\"checkbox\" ><label for=\"sk-estimator-id-2\" class=\"sk-toggleable__label sk-toggleable__label-arrow\">estimator: DecisionTreeClassifier</label><div class=\"sk-toggleable__content\"><pre>DecisionTreeClassifier(criterion=&#x27;entropy&#x27;, splitter=&#x27;random&#x27;)</pre></div></div></div><div class=\"sk-serial\"><div class=\"sk-item\"><div class=\"sk-estimator sk-toggleable\"><input class=\"sk-toggleable__control sk-hidden--visually\" id=\"sk-estimator-id-3\" type=\"checkbox\" ><label for=\"sk-estimator-id-3\" class=\"sk-toggleable__label sk-toggleable__label-arrow\">DecisionTreeClassifier</label><div class=\"sk-toggleable__content\"><pre>DecisionTreeClassifier(criterion=&#x27;entropy&#x27;, splitter=&#x27;random&#x27;)</pre></div></div></div></div></div></div></div></div></div></div>"
            ]
          },
          "metadata": {},
          "execution_count": 56
        }
      ]
    },
    {
      "cell_type": "code",
      "metadata": {
        "colab": {
          "base_uri": "https://localhost:8080/"
        },
        "id": "fLQxlCAeGFl_",
        "outputId": "cb2c13c3-8da4-4419-84a8-8cd7a3a0255f"
      },
      "source": [
        "print(\"Tuned Decision Tree Parameters: {}\".format(tree_grid_cv.best_params_))\n",
        "print(\"Best score is {}\".format(tree_grid_cv.best_score_))"
      ],
      "execution_count": 57,
      "outputs": [
        {
          "output_type": "stream",
          "name": "stdout",
          "text": [
            "Tuned Decision Tree Parameters: {'max_depth': 2, 'max_features': 13, 'min_samples_leaf': 7, 'min_samples_split': 3}\n",
            "Best score is 0.9037698873159536\n"
          ]
        }
      ]
    },
    {
      "cell_type": "markdown",
      "metadata": {
        "id": "30FzX4RK6fgu"
      },
      "source": [
        "Tuned Decision Tree Parameters: {'max_depth': 2, 'max_features': 25, 'min_samples_leaf': 6, 'min_samples_split': 4}\n",
        "\n",
        "dt = DecisionTreeClassifier(splitter='best', criterion='gini', max_depth=2, max_features=25, min_samples_leaf=6, min_samples_split=4)\n"
      ]
    },
    {
      "cell_type": "markdown",
      "metadata": {
        "id": "0HSkYWUaLM3V"
      },
      "source": [
        "{'max_depth': 2, 'max_features': 12, 'min_samples_leaf': 10, 'min_samples_split': 2}\n",
        "\n",
        "dt = DecisionTreeClassifier(splitter='random', criterion='entropy', max_depth=2, max_features=12,min_samples_leaf=10, min_samples_split=2)"
      ]
    },
    {
      "cell_type": "markdown",
      "metadata": {
        "id": "wWP-4RaxjbaV"
      },
      "source": [
        "Threre's an improvment for 25% after tuning"
      ]
    },
    {
      "cell_type": "markdown",
      "metadata": {
        "id": "NLAA57IXjhaK"
      },
      "source": [
        "## Random Forest"
      ]
    },
    {
      "cell_type": "markdown",
      "metadata": {
        "id": "Z45xQrt0jmBL"
      },
      "source": [
        "Making same thing for RandomForest"
      ]
    },
    {
      "cell_type": "code",
      "metadata": {
        "colab": {
          "base_uri": "https://localhost:8080/"
        },
        "id": "xeapGlxcdkea",
        "outputId": "c3bb35b9-38a8-4a79-bbc7-0b36c58225c8"
      },
      "source": [
        "from pprint import pprint\n",
        "\n",
        "# hyperparameters\n",
        "n_estimators = [int(x) for x in np.linspace(start = 200, stop = 2000, num = 10)]\n",
        "max_features = ['auto', 'sqrt']\n",
        "max_depth = [int(x) for x in np.linspace(10, 110, num = 11)]\n",
        "max_depth.append(None)\n",
        "min_samples_split = [2, 5, 10]\n",
        "min_samples_leaf = [1, 2, 4]\n",
        "bootstrap = [True, False]\n",
        "\n",
        "random_grid = {'n_estimators': n_estimators,\n",
        "               'max_features': max_features,\n",
        "               'max_depth': max_depth,\n",
        "               'min_samples_split': min_samples_split,\n",
        "               'min_samples_leaf': min_samples_leaf,\n",
        "               'bootstrap': bootstrap}\n",
        "\n",
        "pprint(random_grid)"
      ],
      "execution_count": 95,
      "outputs": [
        {
          "output_type": "stream",
          "name": "stdout",
          "text": [
            "{'bootstrap': [True, False],\n",
            " 'max_depth': [10, 20, 30, 40, 50, 60, 70, 80, 90, 100, 110, None],\n",
            " 'max_features': ['auto', 'sqrt'],\n",
            " 'min_samples_leaf': [1, 2, 4],\n",
            " 'min_samples_split': [2, 5, 10],\n",
            " 'n_estimators': [200, 400, 600, 800, 1000, 1200, 1400, 1600, 1800, 2000]}\n"
          ]
        }
      ]
    },
    {
      "cell_type": "code",
      "metadata": {
        "id": "d3oWqZpKSeQG"
      },
      "source": [
        "rf = RandomForestClassifier()\n",
        "\n",
        "rf_random = RandomizedSearchCV(estimator=rf, param_distributions=random_grid,\n",
        "                              n_iter = 100, scoring='recall',\n",
        "                              cv = 3, verbose=2, random_state=42, n_jobs=-1,\n",
        "                              return_train_score=True)"
      ],
      "execution_count": 96,
      "outputs": []
    },
    {
      "cell_type": "code",
      "metadata": {
        "id": "_lc0W3SgSeTb"
      },
      "source": [
        "rf_random.fit(X_train_rus, y_train_rus)\n"
      ],
      "execution_count": 98,
      "outputs": []
    },
    {
      "cell_type": "code",
      "metadata": {
        "id": "Hm9FOmnKio18"
      },
      "source": [
        "rf_random.best_params_"
      ],
      "execution_count": null,
      "outputs": []
    },
    {
      "cell_type": "markdown",
      "metadata": {
        "id": "QxIAupytU5oh"
      },
      "source": [
        "{'bootstrap': False,\n",
        " 'max_depth': 10,\n",
        " 'max_features': 'auto',\n",
        " 'min_samples_leaf': 4,\n",
        " 'min_samples_split': 2,\n",
        " 'n_estimators': 1800}\n"
      ]
    },
    {
      "cell_type": "code",
      "metadata": {
        "id": "8kjRrTCvSc_-"
      },
      "source": [
        "rf_random.best_score_"
      ],
      "execution_count": null,
      "outputs": []
    },
    {
      "cell_type": "markdown",
      "metadata": {
        "id": "cxpS-ztrkSt3"
      },
      "source": [
        "GridSearchCV"
      ]
    },
    {
      "cell_type": "code",
      "metadata": {
        "id": "f_4OMviUHloc",
        "colab": {
          "base_uri": "https://localhost:8080/"
        },
        "outputId": "ad137891-3ca5-4dc8-81f5-b20677d29cdf"
      },
      "source": [
        "# refreshing hyperparameters' values\n",
        "n_estimators = [900, 1000]\n",
        "max_depth = [2, 3]\n",
        "min_samples_split = [5, 6]\n",
        "min_samples_leaf = [2, 3]\n",
        "\n",
        "\n",
        "random_grid = {'n_estimators': n_estimators,\n",
        "               'max_depth': max_depth,\n",
        "               'min_samples_split': min_samples_split,\n",
        "               'min_samples_leaf': min_samples_leaf}\n",
        "\n",
        "pprint(random_grid)"
      ],
      "execution_count": 73,
      "outputs": [
        {
          "output_type": "stream",
          "name": "stdout",
          "text": [
            "{'max_depth': [2, 3],\n",
            " 'min_samples_leaf': [2, 3],\n",
            " 'min_samples_split': [5, 6],\n",
            " 'n_estimators': [900, 1000]}\n"
          ]
        }
      ]
    },
    {
      "cell_type": "code",
      "metadata": {
        "id": "UIMSkHlUG86M"
      },
      "source": [
        "rf = RandomForestClassifier(max_features='auto', bootstrap=True)\n",
        "\n",
        "rf_grid = GridSearchCV(estimator=rf, param_grid=random_grid,\n",
        "                              scoring='recall',\n",
        "                              cv = 3, verbose=2, n_jobs=-1,\n",
        "                              return_train_score=True)\n",
        "\n",
        "rf_grid.fit(X_train_rus, y_train_rus)\n"
      ],
      "execution_count": 93,
      "outputs": []
    },
    {
      "cell_type": "code",
      "metadata": {
        "id": "0q1_mCdBIxA6"
      },
      "source": [
        "rf_grid.best_params_"
      ],
      "execution_count": null,
      "outputs": []
    },
    {
      "cell_type": "code",
      "metadata": {
        "id": "xGIQfFNdUsw_"
      },
      "source": [
        "rf_grid.best_score_"
      ],
      "execution_count": null,
      "outputs": []
    },
    {
      "cell_type": "markdown",
      "metadata": {
        "id": "Yd536a3IkfZ0"
      },
      "source": [
        "##Final report"
      ]
    },
    {
      "cell_type": "code",
      "metadata": {
        "colab": {
          "base_uri": "https://localhost:8080/",
          "height": 691
        },
        "id": "Z2Y-XtZ_Zw6r",
        "outputId": "8853db57-3e1b-4bf4-b111-ced9eedc9195"
      },
      "source": [
        "# final RandomForest model\n",
        "\n",
        "rf = RandomForestClassifier(max_features='auto', bootstrap=True,\n",
        "                            max_depth=2, min_samples_leaf=3,\n",
        "                            min_samples_split=5, n_estimators=900)\n",
        "\n",
        "rf.fit(X_train_rus, y_train_rus)\n",
        "\n",
        "# prediction\n",
        "y_pred = rf.predict(X_test)\n",
        "\n",
        "# classification report\n",
        "print(classification_report(y_test, y_pred))\n",
        "\n",
        "# confusion matrix\n",
        "fig, ax = plt.subplots()\n",
        "sns.heatmap(confusion_matrix(y_test, y_pred, normalize='true'), annot=True, ax=ax)\n",
        "ax.set_title('Confusion Matrix')\n",
        "ax.set_ylabel('Real Value')\n",
        "ax.set_xlabel('Predicted Value')\n",
        "\n",
        "plt.show()"
      ],
      "execution_count": 94,
      "outputs": [
        {
          "output_type": "stream",
          "name": "stderr",
          "text": [
            "/usr/local/lib/python3.10/dist-packages/sklearn/ensemble/_forest.py:424: FutureWarning: `max_features='auto'` has been deprecated in 1.1 and will be removed in 1.3. To keep the past behaviour, explicitly set `max_features='sqrt'` or remove this parameter as it is also the default value for RandomForestClassifiers and ExtraTreesClassifiers.\n",
            "  warn(\n"
          ]
        },
        {
          "output_type": "stream",
          "name": "stdout",
          "text": [
            "              precision    recall  f1-score   support\n",
            "\n",
            "           0       0.88      0.66      0.75      1284\n",
            "           1       0.45      0.76      0.57       477\n",
            "\n",
            "    accuracy                           0.68      1761\n",
            "   macro avg       0.67      0.71      0.66      1761\n",
            "weighted avg       0.76      0.68      0.70      1761\n",
            "\n"
          ]
        },
        {
          "output_type": "display_data",
          "data": {
            "text/plain": [
              "<Figure size 640x480 with 2 Axes>"
            ],
            "image/png": "[encoded data removed]"
          },
          "metadata": {}
        }
      ]
    },
    {
      "cell_type": "code",
      "metadata": {
        "colab": {
          "base_uri": "https://localhost:8080/",
          "height": 636
        },
        "id": "9L_nt8x4eGTK",
        "outputId": "16021c98-b2df-40d3-c695-612469d9057e"
      },
      "source": [
        "# final decision tree model\n",
        "\n",
        "dt = DecisionTreeClassifier(splitter='random', criterion='entropy',\n",
        "                            max_depth=2, max_features=12,\n",
        "                            min_samples_leaf=10, min_samples_split=2)\n",
        "\n",
        "dt.fit(X_train_rus, y_train_rus)\n",
        "\n",
        "# prediction\n",
        "y_pred = dt.predict(X_test)\n",
        "\n",
        "# classification report\n",
        "print(classification_report(y_test, y_pred))\n",
        "\n",
        "# confusion matrix\n",
        "fig, ax = plt.subplots()\n",
        "sns.heatmap(confusion_matrix(y_test, y_pred, normalize='true'), annot=True, ax=ax)\n",
        "ax.set_title('Confusion Matrix')\n",
        "ax.set_ylabel('Real Value')\n",
        "ax.set_xlabel('Predicted Value')\n",
        "\n",
        "plt.show()"
      ],
      "execution_count": 76,
      "outputs": [
        {
          "output_type": "stream",
          "name": "stdout",
          "text": [
            "              precision    recall  f1-score   support\n",
            "\n",
            "           0       0.94      0.57      0.71      1284\n",
            "           1       0.44      0.90      0.59       477\n",
            "\n",
            "    accuracy                           0.66      1761\n",
            "   macro avg       0.69      0.73      0.65      1761\n",
            "weighted avg       0.80      0.66      0.68      1761\n",
            "\n"
          ]
        },
        {
          "output_type": "display_data",
          "data": {
            "text/plain": [
              "<Figure size 640x480 with 2 Axes>"
            ],
            "image/png": "[encoded data removed]"
          },
          "metadata": {}
        }
      ]
    },
    {
      "cell_type": "code",
      "metadata": {
        "colab": {
          "base_uri": "https://localhost:8080/",
          "height": 636
        },
        "id": "QmGjJ9LXBJiO",
        "outputId": "a7593d13-13ae-4fc5-f178-a92a6d054fce"
      },
      "source": [
        "# final Logistic Regression model\n",
        "lr = LogisticRegression(C=0.0001, solver='liblinear')\n",
        "lr.fit(X_train_rus.drop('TotalCharges', axis=1), y_train_rus)\n",
        "\n",
        "# prediction\n",
        "y_pred = lr.predict(X_test_std.drop('TotalCharges', axis=1))\n",
        "\n",
        "# classification report\n",
        "print(classification_report(y_test, y_pred))\n",
        "\n",
        "# confusion matrix\n",
        "fig, ax = plt.subplots()\n",
        "sns.heatmap(confusion_matrix(y_test, y_pred, normalize='true'), annot=True, ax=ax)\n",
        "ax.set_title('Confusion Matrix')\n",
        "ax.set_ylabel('Real Value')\n",
        "ax.set_xlabel('Predicted Value')\n",
        "\n",
        "plt.show()"
      ],
      "execution_count": 78,
      "outputs": [
        {
          "output_type": "stream",
          "name": "stdout",
          "text": [
            "              precision    recall  f1-score   support\n",
            "\n",
            "           0       0.93      0.62      0.75      1284\n",
            "           1       0.47      0.88      0.61       477\n",
            "\n",
            "    accuracy                           0.69      1761\n",
            "   macro avg       0.70      0.75      0.68      1761\n",
            "weighted avg       0.81      0.69      0.71      1761\n",
            "\n"
          ]
        },
        {
          "output_type": "display_data",
          "data": {
            "text/plain": [
              "<Figure size 640x480 with 2 Axes>"
            ],
            "image/png": "[encoded data removed]"
          },
          "metadata": {}
        }
      ]
    },
    {
      "cell_type": "code",
      "source": [
        "print('Intercept')\n",
        "\n",
        "pd.DataFrame(zip(X_train_rus.drop('TotalCharges', axis=1).columns,\n",
        "                 np.transpose(lr.coef_)),\n",
        "             columns=['features', 'coef'])"
      ],
      "metadata": {
        "colab": {
          "base_uri": "https://localhost:8080/",
          "height": 914
        },
        "id": "YmHYttebInUK",
        "outputId": "ced9900f-6d24-4bc7-cda8-f4b5cc4045bb"
      },
      "execution_count": 83,
      "outputs": [
        {
          "output_type": "stream",
          "name": "stdout",
          "text": [
            "Intercept\n"
          ]
        },
        {
          "output_type": "execute_result",
          "data": {
            "text/plain": [
              "                                   features                      coef\n",
              "0                                    gender   [0.0010896573476125342]\n",
              "1                             SeniorCitizen     [0.01818999604451091]\n",
              "2                                   Partner   [-0.021432406565800213]\n",
              "3                                Dependents   [-0.019987607199019628]\n",
              "4                                    tenure     [-0.0466132987252529]\n",
              "5                              PhoneService   [0.0009939407446698145]\n",
              "6                            OnlineSecurity   [-0.021179429774643408]\n",
              "7                              OnlineBackup   [-0.008757662624422052]\n",
              "8                          DeviceProtection   [-0.009628725053797754]\n",
              "9                               TechSupport   [-0.019443542782413267]\n",
              "10                              StreamingTV    [0.006624720992184694]\n",
              "11                          StreamingMovies    [0.007483289840069264]\n",
              "12                         PaperlessBilling    [0.025139713833474974]\n",
              "13                           MonthlyCharges     [0.02411280159008997]\n",
              "14                         MultipleLines_No   [-0.002720725519258023]\n",
              "15           MultipleLines_No phone service  [-0.0009939407446698148]\n",
              "16                        MultipleLines_Yes   [0.0033447129172917522]\n",
              "17                      InternetService_DSL   [-0.014428431399441718]\n",
              "18              InternetService_Fiber optic     [0.03822923106965858]\n",
              "19                       InternetService_No   [-0.029619758301515624]\n",
              "20                  Contract_Month-to-month    [0.051367010805475365]\n",
              "21                        Contract_One year   [-0.022270282004934243]\n",
              "22                        Contract_Two year    [-0.03851568662963904]\n",
              "23  PaymentMethod_Bank transfer (automatic)   [-0.013883064085914647]\n",
              "24    PaymentMethod_Credit card (automatic)   [-0.020605941480830125]\n",
              "25           PaymentMethod_Electronic check     [0.03848222832782171]\n",
              "26               PaymentMethod_Mailed check   [-0.009709147689102497]"
            ],
            "text/html": [
              "\n",
              "  <div id=\"df-b56a842d-a7ec-40e6-8c3d-0bc2f7f1b7b5\" class=\"colab-df-container\">\n",
              "    <div>\n",
              "<style scoped>\n",
              "    .dataframe tbody tr th:only-of-type {\n",
              "        vertical-align: middle;\n",
              "    }\n",
              "\n",
              "    .dataframe tbody tr th {\n",
              "        vertical-align: top;\n",
              "    }\n",
              "\n",
              "    .dataframe thead th {\n",
              "        text-align: right;\n",
              "    }\n",
              "</style>\n",
              "<table border=\"1\" class=\"dataframe\">\n",
              "  <thead>\n",
              "    <tr style=\"text-align: right;\">\n",
              "      <th></th>\n",
              "      <th>features</th>\n",
              "      <th>coef</th>\n",
              "    </tr>\n",
              "  </thead>\n",
              "  <tbody>\n",
              "    <tr>\n",
              "      <th>0</th>\n",
              "      <td>gender</td>\n",
              "      <td>[0.0010896573476125342]</td>\n",
              "    </tr>\n",
              "    <tr>\n",
              "      <th>1</th>\n",
              "      <td>SeniorCitizen</td>\n",
              "      <td>[0.01818999604451091]</td>\n",
              "    </tr>\n",
              "    <tr>\n",
              "      <th>2</th>\n",
              "      <td>Partner</td>\n",
              "      <td>[-0.021432406565800213]</td>\n",
              "    </tr>\n",
              "    <tr>\n",
              "      <th>3</th>\n",
              "      <td>Dependents</td>\n",
              "      <td>[-0.019987607199019628]</td>\n",
              "    </tr>\n",
              "    <tr>\n",
              "      <th>4</th>\n",
              "      <td>tenure</td>\n",
              "      <td>[-0.0466132987252529]</td>\n",
              "    </tr>\n",
              "    <tr>\n",
              "      <th>5</th>\n",
              "      <td>PhoneService</td>\n",
              "      <td>[0.0009939407446698145]</td>\n",
              "    </tr>\n",
              "    <tr>\n",
              "      <th>6</th>\n",
              "      <td>OnlineSecurity</td>\n",
              "      <td>[-0.021179429774643408]</td>\n",
              "    </tr>\n",
              "    <tr>\n",
              "      <th>7</th>\n",
              "      <td>OnlineBackup</td>\n",
              "      <td>[-0.008757662624422052]</td>\n",
              "    </tr>\n",
              "    <tr>\n",
              "      <th>8</th>\n",
              "      <td>DeviceProtection</td>\n",
              "      <td>[-0.009628725053797754]</td>\n",
              "    </tr>\n",
              "    <tr>\n",
              "      <th>9</th>\n",
              "      <td>TechSupport</td>\n",
              "      <td>[-0.019443542782413267]</td>\n",
              "    </tr>\n",
              "    <tr>\n",
              "      <th>10</th>\n",
              "      <td>StreamingTV</td>\n",
              "      <td>[0.006624720992184694]</td>\n",
              "    </tr>\n",
              "    <tr>\n",
              "      <th>11</th>\n",
              "      <td>StreamingMovies</td>\n",
              "      <td>[0.007483289840069264]</td>\n",
              "    </tr>\n",
              "    <tr>\n",
              "      <th>12</th>\n",
              "      <td>PaperlessBilling</td>\n",
              "      <td>[0.025139713833474974]</td>\n",
              "    </tr>\n",
              "    <tr>\n",
              "      <th>13</th>\n",
              "      <td>MonthlyCharges</td>\n",
              "      <td>[0.02411280159008997]</td>\n",
              "    </tr>\n",
              "    <tr>\n",
              "      <th>14</th>\n",
              "      <td>MultipleLines_No</td>\n",
              "      <td>[-0.002720725519258023]</td>\n",
              "    </tr>\n",
              "    <tr>\n",
              "      <th>15</th>\n",
              "      <td>MultipleLines_No phone service</td>\n",
              "      <td>[-0.0009939407446698148]</td>\n",
              "    </tr>\n",
              "    <tr>\n",
              "      <th>16</th>\n",
              "      <td>MultipleLines_Yes</td>\n",
              "      <td>[0.0033447129172917522]</td>\n",
              "    </tr>\n",
              "    <tr>\n",
              "      <th>17</th>\n",
              "      <td>InternetService_DSL</td>\n",
              "      <td>[-0.014428431399441718]</td>\n",
              "    </tr>\n",
              "    <tr>\n",
              "      <th>18</th>\n",
              "      <td>InternetService_Fiber optic</td>\n",
              "      <td>[0.03822923106965858]</td>\n",
              "    </tr>\n",
              "    <tr>\n",
              "      <th>19</th>\n",
              "      <td>InternetService_No</td>\n",
              "      <td>[-0.029619758301515624]</td>\n",
              "    </tr>\n",
              "    <tr>\n",
              "      <th>20</th>\n",
              "      <td>Contract_Month-to-month</td>\n",
              "      <td>[0.051367010805475365]</td>\n",
              "    </tr>\n",
              "    <tr>\n",
              "      <th>21</th>\n",
              "      <td>Contract_One year</td>\n",
              "      <td>[-0.022270282004934243]</td>\n",
              "    </tr>\n",
              "    <tr>\n",
              "      <th>22</th>\n",
              "      <td>Contract_Two year</td>\n",
              "      <td>[-0.03851568662963904]</td>\n",
              "    </tr>\n",
              "    <tr>\n",
              "      <th>23</th>\n",
              "      <td>PaymentMethod_Bank transfer (automatic)</td>\n",
              "      <td>[-0.013883064085914647]</td>\n",
              "    </tr>\n",
              "    <tr>\n",
              "      <th>24</th>\n",
              "      <td>PaymentMethod_Credit card (automatic)</td>\n",
              "      <td>[-0.020605941480830125]</td>\n",
              "    </tr>\n",
              "    <tr>\n",
              "      <th>25</th>\n",
              "      <td>PaymentMethod_Electronic check</td>\n",
              "      <td>[0.03848222832782171]</td>\n",
              "    </tr>\n",
              "    <tr>\n",
              "      <th>26</th>\n",
              "      <td>PaymentMethod_Mailed check</td>\n",
              "      <td>[-0.009709147689102497]</td>\n",
              "    </tr>\n",
              "  </tbody>\n",
              "</table>\n",
              "</div>\n",
              "    <div class=\"colab-df-buttons\">\n",
              "\n",
              "  <div class=\"colab-df-container\">\n",
              "    <button class=\"colab-df-convert\" onclick=\"convertToInteractive('df-b56a842d-a7ec-40e6-8c3d-0bc2f7f1b7b5')\"\n",
              "            title=\"Convert this dataframe to an interactive table.\"\n",
              "            style=\"display:none;\">\n",
              "\n",
              "  <svg xmlns=\"http://www.w3.org/2000/svg\" height=\"24px\" viewBox=\"0 -960 960 960\">\n",
              "    <path d=\"M120-120v-720h720v720H120Zm60-500h600v-160H180v160Zm220 220h160v-160H400v160Zm0 220h160v-160H400v160ZM180-400h160v-160H180v160Zm440 0h160v-160H620v160ZM180-180h160v-160H180v160Zm440 0h160v-160H620v160Z\"/>\n",
              "  </svg>\n",
              "    </button>\n",
              "\n",
              "  <style>\n",
              "    .colab-df-container {\n",
              "      display:flex;\n",
              "      gap: 12px;\n",
              "    }\n",
              "\n",
              "    .colab-df-convert {\n",
              "      background-color: #E8F0FE;\n",
              "      border: none;\n",
              "      border-radius: 50%;\n",
              "      cursor: pointer;\n",
              "      display: none;\n",
              "      fill: #1967D2;\n",
              "      height: 32px;\n",
              "      padding: 0 0 0 0;\n",
              "      width: 32px;\n",
              "    }\n",
              "\n",
              "    .colab-df-convert:hover {\n",
              "      background-color: #E2EBFA;\n",
              "      box-shadow: 0px 1px 2px rgba(60, 64, 67, 0.3), 0px 1px 3px 1px rgba(60, 64, 67, 0.15);\n",
              "      fill: #174EA6;\n",
              "    }\n",
              "\n",
              "    .colab-df-buttons div {\n",
              "      margin-bottom: 4px;\n",
              "    }\n",
              "\n",
              "    [theme=dark] .colab-df-convert {\n",
              "      background-color: #3B4455;\n",
              "      fill: #D2E3FC;\n",
              "    }\n",
              "\n",
              "    [theme=dark] .colab-df-convert:hover {\n",
              "      background-color: #434B5C;\n",
              "      box-shadow: 0px 1px 3px 1px rgba(0, 0, 0, 0.15);\n",
              "      filter: drop-shadow(0px 1px 2px rgba(0, 0, 0, 0.3));\n",
              "      fill: #FFFFFF;\n",
              "    }\n",
              "  </style>\n",
              "\n",
              "    <script>\n",
              "      const buttonEl =\n",
              "        document.querySelector('#df-b56a842d-a7ec-40e6-8c3d-0bc2f7f1b7b5 button.colab-df-convert');\n",
              "      buttonEl.style.display =\n",
              "        google.colab.kernel.accessAllowed ? 'block' : 'none';\n",
              "\n",
              "      async function convertToInteractive(key) {\n",
              "        const element = document.querySelector('#df-b56a842d-a7ec-40e6-8c3d-0bc2f7f1b7b5');\n",
              "        const dataTable =\n",
              "          await google.colab.kernel.invokeFunction('convertToInteractive',\n",
              "                                                    [key], {});\n",
              "        if (!dataTable) return;\n",
              "\n",
              "        const docLinkHtml = 'Like what you see? Visit the ' +\n",
              "          '<a target=\"_blank\" href=https://colab.research.google.com/notebooks/data_table.ipynb>data table notebook</a>'\n",
              "          + ' to learn more about interactive tables.';\n",
              "        element.innerHTML = '';\n",
              "        dataTable['output_type'] = 'display_data';\n",
              "        await google.colab.output.renderOutput(dataTable, element);\n",
              "        const docLink = document.createElement('div');\n",
              "        docLink.innerHTML = docLinkHtml;\n",
              "        element.appendChild(docLink);\n",
              "      }\n",
              "    </script>\n",
              "  </div>\n",
              "\n",
              "\n",
              "<div id=\"df-d9b53356-8e4f-4f63-9d2c-17033bfcf6e7\">\n",
              "  <button class=\"colab-df-quickchart\" onclick=\"quickchart('df-d9b53356-8e4f-4f63-9d2c-17033bfcf6e7')\"\n",
              "            title=\"Suggest charts\"\n",
              "            style=\"display:none;\">\n",
              "\n",
              "<svg xmlns=\"http://www.w3.org/2000/svg\" height=\"24px\"viewBox=\"0 0 24 24\"\n",
              "     width=\"24px\">\n",
              "    <g>\n",
              "        <path d=\"M19 3H5c-1.1 0-2 .9-2 2v14c0 1.1.9 2 2 2h14c1.1 0 2-.9 2-2V5c0-1.1-.9-2-2-2zM9 17H7v-7h2v7zm4 0h-2V7h2v10zm4 0h-2v-4h2v4z\"/>\n",
              "    </g>\n",
              "</svg>\n",
              "  </button>\n",
              "\n",
              "<style>\n",
              "  .colab-df-quickchart {\n",
              "      --bg-color: #E8F0FE;\n",
              "      --fill-color: #1967D2;\n",
              "      --hover-bg-color: #E2EBFA;\n",
              "      --hover-fill-color: #174EA6;\n",
              "      --disabled-fill-color: #AAA;\n",
              "      --disabled-bg-color: #DDD;\n",
              "  }\n",
              "\n",
              "  [theme=dark] .colab-df-quickchart {\n",
              "      --bg-color: #3B4455;\n",
              "      --fill-color: #D2E3FC;\n",
              "      --hover-bg-color: #434B5C;\n",
              "      --hover-fill-color: #FFFFFF;\n",
              "      --disabled-bg-color: #3B4455;\n",
              "      --disabled-fill-color: #666;\n",
              "  }\n",
              "\n",
              "  .colab-df-quickchart {\n",
              "    background-color: var(--bg-color);\n",
              "    border: none;\n",
              "    border-radius: 50%;\n",
              "    cursor: pointer;\n",
              "    display: none;\n",
              "    fill: var(--fill-color);\n",
              "    height: 32px;\n",
              "    padding: 0;\n",
              "    width: 32px;\n",
              "  }\n",
              "\n",
              "  .colab-df-quickchart:hover {\n",
              "    background-color: var(--hover-bg-color);\n",
              "    box-shadow: 0 1px 2px rgba(60, 64, 67, 0.3), 0 1px 3px 1px rgba(60, 64, 67, 0.15);\n",
              "    fill: var(--button-hover-fill-color);\n",
              "  }\n",
              "\n",
              "  .colab-df-quickchart-complete:disabled,\n",
              "  .colab-df-quickchart-complete:disabled:hover {\n",
              "    background-color: var(--disabled-bg-color);\n",
              "    fill: var(--disabled-fill-color);\n",
              "    box-shadow: none;\n",
              "  }\n",
              "\n",
              "  .colab-df-spinner {\n",
              "    border: 2px solid var(--fill-color);\n",
              "    border-color: transparent;\n",
              "    border-bottom-color: var(--fill-color);\n",
              "    animation:\n",
              "      spin 1s steps(1) infinite;\n",
              "  }\n",
              "\n",
              "  @keyframes spin {\n",
              "    0% {\n",
              "      border-color: transparent;\n",
              "      border-bottom-color: var(--fill-color);\n",
              "      border-left-color: var(--fill-color);\n",
              "    }\n",
              "    20% {\n",
              "      border-color: transparent;\n",
              "      border-left-color: var(--fill-color);\n",
              "      border-top-color: var(--fill-color);\n",
              "    }\n",
              "    30% {\n",
              "      border-color: transparent;\n",
              "      border-left-color: var(--fill-color);\n",
              "      border-top-color: var(--fill-color);\n",
              "      border-right-color: var(--fill-color);\n",
              "    }\n",
              "    40% {\n",
              "      border-color: transparent;\n",
              "      border-right-color: var(--fill-color);\n",
              "      border-top-color: var(--fill-color);\n",
              "    }\n",
              "    60% {\n",
              "      border-color: transparent;\n",
              "      border-right-color: var(--fill-color);\n",
              "    }\n",
              "    80% {\n",
              "      border-color: transparent;\n",
              "      border-right-color: var(--fill-color);\n",
              "      border-bottom-color: var(--fill-color);\n",
              "    }\n",
              "    90% {\n",
              "      border-color: transparent;\n",
              "      border-bottom-color: var(--fill-color);\n",
              "    }\n",
              "  }\n",
              "</style>\n",
              "\n",
              "  <script>\n",
              "    async function quickchart(key) {\n",
              "      const quickchartButtonEl =\n",
              "        document.querySelector('#' + key + ' button');\n",
              "      quickchartButtonEl.disabled = true;  // To prevent multiple clicks.\n",
              "      quickchartButtonEl.classList.add('colab-df-spinner');\n",
              "      try {\n",
              "        const charts = await google.colab.kernel.invokeFunction(\n",
              "            'suggestCharts', [key], {});\n",
              "      } catch (error) {\n",
              "        console.error('Error during call to suggestCharts:', error);\n",
              "      }\n",
              "      quickchartButtonEl.classList.remove('colab-df-spinner');\n",
              "      quickchartButtonEl.classList.add('colab-df-quickchart-complete');\n",
              "    }\n",
              "    (() => {\n",
              "      let quickchartButtonEl =\n",
              "        document.querySelector('#df-d9b53356-8e4f-4f63-9d2c-17033bfcf6e7 button');\n",
              "      quickchartButtonEl.style.display =\n",
              "        google.colab.kernel.accessAllowed ? 'block' : 'none';\n",
              "    })();\n",
              "  </script>\n",
              "</div>\n",
              "    </div>\n",
              "  </div>\n"
            ]
          },
          "metadata": {},
          "execution_count": 83
        }
      ]
    },
    {
      "cell_type": "code",
      "metadata": {
        "colab": {
          "base_uri": "https://localhost:8080/"
        },
        "id": "TaUDrLfpgr48",
        "outputId": "e429aa96-489b-4b09-a20c-e9a3d585f41e"
      },
      "source": [
        "X_test_norm = mx.transform(X_test)\n",
        "\n",
        "# predicting probabilities for test set\n",
        "yhat_probs = nn.predict(X_test_norm, verbose=0)\n",
        "# predicting crisp classes for test set\n",
        "yhat_classes = (nn.predict(X_test_norm) > 0.5).astype(\"int64\")\n",
        "# reduce to 1d array\n",
        "yhat_probs = yhat_probs[:, 0]\n",
        "yhat_classes = yhat_classes[:, 0]\n",
        "\n",
        "# accuracy: (tp + tn) / (p + n)\n",
        "accuracy = accuracy_score(y_test, yhat_classes)\n",
        "print('Accuracy: %f' % accuracy)\n",
        "\n",
        "# precision tp / (tp + fp)\n",
        "precision = precision_score(y_test, yhat_classes)\n",
        "print('Precision: %f' % precision)\n",
        "\n",
        "# recall: tp / (tp + fn)\n",
        "recall = recall_score(y_test, yhat_classes)\n",
        "print('Recall: %f' % recall)\n",
        "\n",
        "# f1: 2 tp / (2 tp + fp + fn)\n",
        "f1 = f1_score(y_test, yhat_classes)\n",
        "print('F1 : %f' % f1)\n",
        "\n",
        "# confusion matrix\n",
        "matrix = confusion_matrix(y_test, yhat_classes)\n",
        "print(matrix)"
      ],
      "execution_count": 91,
      "outputs": [
        {
          "output_type": "stream",
          "name": "stdout",
          "text": [
            "56/56 [==============================] - 0s 2ms/step\n",
            "Accuracy: 0.738785\n",
            "Precision: 0.511596\n",
            "Recall: 0.786164\n",
            "F1 : 0.619835\n",
            "[[926 358]\n",
            " [102 375]]\n"
          ]
        }
      ]
    },
    {
      "cell_type": "markdown",
      "metadata": {
        "id": "0_uhc0enNnb_"
      },
      "source": [
        "# Results\n",
        "\n",
        "\n",
        "\n",
        "*   Random Forest - 0.76\n",
        "*   Decision Tree - 0.90\n",
        "*   Logistic Regression - 0.88\n",
        "*   Neural network - 0.78\n",
        "\n"
      ]
    },
    {
      "cell_type": "markdown",
      "metadata": {
        "id": "D8MhYqHaaHA1"
      },
      "source": [
        "# Conclusion\n",
        "\n",
        "The goal of this project was to develop a model that would be able to determine churning clients from a telecom company, as efficiently as possible.\n",
        "\n",
        "It's well heard that to keep a client is about 5-7 times cheaper than to find a new one. That's why it's important for a company to identify churners aforehand to have some time to develop strategies (like offering discounts, special servicies, etc.) to reduce the churn rate.\n",
        "\n",
        "Were created, tunned and analyzed work of 4 different models to find out the  one that performs the best.\n",
        "\n",
        "The Decision Tree model has the best recall from all the models, but Logistic Regression model has better f1 score with slightly lower recall score.\n",
        "So, to my mind, it outperformes other models."
      ]
    }
  ]
}